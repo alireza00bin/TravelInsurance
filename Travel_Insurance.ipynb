{
  "nbformat": 4,
  "nbformat_minor": 0,
  "metadata": {
    "colab": {
      "provenance": [],
      "toc_visible": true
    },
    "kernelspec": {
      "name": "python3",
      "display_name": "Python 3"
    },
    "language_info": {
      "name": "python"
    }
  },
  "cells": [
    {
      "cell_type": "markdown",
      "source": [
        "## Import Essential Libraries"
      ],
      "metadata": {
        "id": "ZRxe0FbAfNGt"
      }
    },
    {
      "cell_type": "code",
      "execution_count": 1,
      "metadata": {
        "id": "YPGnYDCO_899"
      },
      "outputs": [],
      "source": [
        "import numpy as np\n",
        "import pandas as pd\n",
        "import matplotlib.pyplot as plt"
      ]
    },
    {
      "cell_type": "markdown",
      "source": [
        "## Uplod File"
      ],
      "metadata": {
        "id": "fHWK6uJ2fYAj"
      }
    },
    {
      "cell_type": "code",
      "source": [
        "from google.colab import files\n",
        "files.upload()"
      ],
      "metadata": {
        "id": "S3WifDxgAHF8"
      },
      "execution_count": null,
      "outputs": []
    },
    {
      "cell_type": "markdown",
      "source": [
        "### Unzip File"
      ],
      "metadata": {
        "id": "5sRIycoJfaWj"
      }
    },
    {
      "cell_type": "code",
      "source": [
        "!unzip travel_insurance.zip"
      ],
      "metadata": {
        "colab": {
          "base_uri": "https://localhost:8080/"
        },
        "id": "LVlvqKepCc_B",
        "outputId": "b785468b-a815-4938-f084-c29b09929b88"
      },
      "execution_count": 3,
      "outputs": [
        {
          "output_type": "stream",
          "name": "stdout",
          "text": [
            "Archive:  travel_insurance.zip\n",
            "   creating: travel_insurance/\n",
            "  inflating: travel_insurance/test.csv  \n",
            "  inflating: travel_insurance/train.csv  \n"
          ]
        }
      ]
    },
    {
      "cell_type": "markdown",
      "source": [
        "## Read Train Data and Display First 10 Rows"
      ],
      "metadata": {
        "id": "b-UDcyYzf0dL"
      }
    },
    {
      "cell_type": "code",
      "source": [
        "df = pd.read_csv('travel_insurance/train.csv')\n",
        "df.head(10)"
      ],
      "metadata": {
        "colab": {
          "base_uri": "https://localhost:8080/",
          "height": 739
        },
        "id": "ByJrCzOTCk1t",
        "outputId": "e6a92dca-9231-401d-81f6-359cec81d0b1"
      },
      "execution_count": 4,
      "outputs": [
        {
          "output_type": "execute_result",
          "data": {
            "text/plain": [
              "    Customer Id  Age               Employment Type GraduateOrNot  \\\n",
              "0  3JUN0VW6F043   34  Private Sector/Self Employed           Yes   \n",
              "1  VLHY2ABIR4QL   28  Private Sector/Self Employed           Yes   \n",
              "2  6E3F7UNXYNFF   28  Private Sector/Self Employed           Yes   \n",
              "3  JJ8R0ZRYWR31   32             Government Sector           Yes   \n",
              "4  2WGFUEX6IEHM   34  Private Sector/Self Employed           Yes   \n",
              "5  V4GZ5HKMGHZ1   28             Government Sector           Yes   \n",
              "6  VZRMW8H4O2AX   29  Private Sector/Self Employed           Yes   \n",
              "7  WBJUKIWUMMIU   28  Private Sector/Self Employed           Yes   \n",
              "8  W4H1AN0T8WRJ   26  Private Sector/Self Employed           Yes   \n",
              "9  NMDQXNZ6ZP3Y   31             Government Sector            No   \n",
              "\n",
              "   AnnualIncome  FamilyMembers  ChronicDiseases FrequentFlyer  \\\n",
              "0       1300000              6                0           Yes   \n",
              "1        750000              7                0           Yes   \n",
              "2        750000              6                0           Yes   \n",
              "3        800000              6                1            No   \n",
              "4        700000              4                1            No   \n",
              "5        300000              6                1            No   \n",
              "6       1100000              4                0            No   \n",
              "7        500000              5                0            No   \n",
              "8       1500000              5                0           Yes   \n",
              "9        400000              3                0            No   \n",
              "\n",
              "  EverTravelledAbroad TravelInsurance  \n",
              "0                  No              No  \n",
              "1                  No              No  \n",
              "2                  No              No  \n",
              "3                  No              No  \n",
              "4                  No              No  \n",
              "5                  No              No  \n",
              "6                  No              No  \n",
              "7                  No              No  \n",
              "8                 Yes             Yes  \n",
              "9                  No              No  "
            ],
            "text/html": [
              "\n",
              "  <div id=\"df-9b99952d-f1a6-4266-961b-91f316901525\">\n",
              "    <div class=\"colab-df-container\">\n",
              "      <div>\n",
              "<style scoped>\n",
              "    .dataframe tbody tr th:only-of-type {\n",
              "        vertical-align: middle;\n",
              "    }\n",
              "\n",
              "    .dataframe tbody tr th {\n",
              "        vertical-align: top;\n",
              "    }\n",
              "\n",
              "    .dataframe thead th {\n",
              "        text-align: right;\n",
              "    }\n",
              "</style>\n",
              "<table border=\"1\" class=\"dataframe\">\n",
              "  <thead>\n",
              "    <tr style=\"text-align: right;\">\n",
              "      <th></th>\n",
              "      <th>Customer Id</th>\n",
              "      <th>Age</th>\n",
              "      <th>Employment Type</th>\n",
              "      <th>GraduateOrNot</th>\n",
              "      <th>AnnualIncome</th>\n",
              "      <th>FamilyMembers</th>\n",
              "      <th>ChronicDiseases</th>\n",
              "      <th>FrequentFlyer</th>\n",
              "      <th>EverTravelledAbroad</th>\n",
              "      <th>TravelInsurance</th>\n",
              "    </tr>\n",
              "  </thead>\n",
              "  <tbody>\n",
              "    <tr>\n",
              "      <th>0</th>\n",
              "      <td>3JUN0VW6F043</td>\n",
              "      <td>34</td>\n",
              "      <td>Private Sector/Self Employed</td>\n",
              "      <td>Yes</td>\n",
              "      <td>1300000</td>\n",
              "      <td>6</td>\n",
              "      <td>0</td>\n",
              "      <td>Yes</td>\n",
              "      <td>No</td>\n",
              "      <td>No</td>\n",
              "    </tr>\n",
              "    <tr>\n",
              "      <th>1</th>\n",
              "      <td>VLHY2ABIR4QL</td>\n",
              "      <td>28</td>\n",
              "      <td>Private Sector/Self Employed</td>\n",
              "      <td>Yes</td>\n",
              "      <td>750000</td>\n",
              "      <td>7</td>\n",
              "      <td>0</td>\n",
              "      <td>Yes</td>\n",
              "      <td>No</td>\n",
              "      <td>No</td>\n",
              "    </tr>\n",
              "    <tr>\n",
              "      <th>2</th>\n",
              "      <td>6E3F7UNXYNFF</td>\n",
              "      <td>28</td>\n",
              "      <td>Private Sector/Self Employed</td>\n",
              "      <td>Yes</td>\n",
              "      <td>750000</td>\n",
              "      <td>6</td>\n",
              "      <td>0</td>\n",
              "      <td>Yes</td>\n",
              "      <td>No</td>\n",
              "      <td>No</td>\n",
              "    </tr>\n",
              "    <tr>\n",
              "      <th>3</th>\n",
              "      <td>JJ8R0ZRYWR31</td>\n",
              "      <td>32</td>\n",
              "      <td>Government Sector</td>\n",
              "      <td>Yes</td>\n",
              "      <td>800000</td>\n",
              "      <td>6</td>\n",
              "      <td>1</td>\n",
              "      <td>No</td>\n",
              "      <td>No</td>\n",
              "      <td>No</td>\n",
              "    </tr>\n",
              "    <tr>\n",
              "      <th>4</th>\n",
              "      <td>2WGFUEX6IEHM</td>\n",
              "      <td>34</td>\n",
              "      <td>Private Sector/Self Employed</td>\n",
              "      <td>Yes</td>\n",
              "      <td>700000</td>\n",
              "      <td>4</td>\n",
              "      <td>1</td>\n",
              "      <td>No</td>\n",
              "      <td>No</td>\n",
              "      <td>No</td>\n",
              "    </tr>\n",
              "    <tr>\n",
              "      <th>5</th>\n",
              "      <td>V4GZ5HKMGHZ1</td>\n",
              "      <td>28</td>\n",
              "      <td>Government Sector</td>\n",
              "      <td>Yes</td>\n",
              "      <td>300000</td>\n",
              "      <td>6</td>\n",
              "      <td>1</td>\n",
              "      <td>No</td>\n",
              "      <td>No</td>\n",
              "      <td>No</td>\n",
              "    </tr>\n",
              "    <tr>\n",
              "      <th>6</th>\n",
              "      <td>VZRMW8H4O2AX</td>\n",
              "      <td>29</td>\n",
              "      <td>Private Sector/Self Employed</td>\n",
              "      <td>Yes</td>\n",
              "      <td>1100000</td>\n",
              "      <td>4</td>\n",
              "      <td>0</td>\n",
              "      <td>No</td>\n",
              "      <td>No</td>\n",
              "      <td>No</td>\n",
              "    </tr>\n",
              "    <tr>\n",
              "      <th>7</th>\n",
              "      <td>WBJUKIWUMMIU</td>\n",
              "      <td>28</td>\n",
              "      <td>Private Sector/Self Employed</td>\n",
              "      <td>Yes</td>\n",
              "      <td>500000</td>\n",
              "      <td>5</td>\n",
              "      <td>0</td>\n",
              "      <td>No</td>\n",
              "      <td>No</td>\n",
              "      <td>No</td>\n",
              "    </tr>\n",
              "    <tr>\n",
              "      <th>8</th>\n",
              "      <td>W4H1AN0T8WRJ</td>\n",
              "      <td>26</td>\n",
              "      <td>Private Sector/Self Employed</td>\n",
              "      <td>Yes</td>\n",
              "      <td>1500000</td>\n",
              "      <td>5</td>\n",
              "      <td>0</td>\n",
              "      <td>Yes</td>\n",
              "      <td>Yes</td>\n",
              "      <td>Yes</td>\n",
              "    </tr>\n",
              "    <tr>\n",
              "      <th>9</th>\n",
              "      <td>NMDQXNZ6ZP3Y</td>\n",
              "      <td>31</td>\n",
              "      <td>Government Sector</td>\n",
              "      <td>No</td>\n",
              "      <td>400000</td>\n",
              "      <td>3</td>\n",
              "      <td>0</td>\n",
              "      <td>No</td>\n",
              "      <td>No</td>\n",
              "      <td>No</td>\n",
              "    </tr>\n",
              "  </tbody>\n",
              "</table>\n",
              "</div>\n",
              "      <button class=\"colab-df-convert\" onclick=\"convertToInteractive('df-9b99952d-f1a6-4266-961b-91f316901525')\"\n",
              "              title=\"Convert this dataframe to an interactive table.\"\n",
              "              style=\"display:none;\">\n",
              "        \n",
              "  <svg xmlns=\"http://www.w3.org/2000/svg\" height=\"24px\"viewBox=\"0 0 24 24\"\n",
              "       width=\"24px\">\n",
              "    <path d=\"M0 0h24v24H0V0z\" fill=\"none\"/>\n",
              "    <path d=\"M18.56 5.44l.94 2.06.94-2.06 2.06-.94-2.06-.94-.94-2.06-.94 2.06-2.06.94zm-11 1L8.5 8.5l.94-2.06 2.06-.94-2.06-.94L8.5 2.5l-.94 2.06-2.06.94zm10 10l.94 2.06.94-2.06 2.06-.94-2.06-.94-.94-2.06-.94 2.06-2.06.94z\"/><path d=\"M17.41 7.96l-1.37-1.37c-.4-.4-.92-.59-1.43-.59-.52 0-1.04.2-1.43.59L10.3 9.45l-7.72 7.72c-.78.78-.78 2.05 0 2.83L4 21.41c.39.39.9.59 1.41.59.51 0 1.02-.2 1.41-.59l7.78-7.78 2.81-2.81c.8-.78.8-2.07 0-2.86zM5.41 20L4 18.59l7.72-7.72 1.47 1.35L5.41 20z\"/>\n",
              "  </svg>\n",
              "      </button>\n",
              "      \n",
              "  <style>\n",
              "    .colab-df-container {\n",
              "      display:flex;\n",
              "      flex-wrap:wrap;\n",
              "      gap: 12px;\n",
              "    }\n",
              "\n",
              "    .colab-df-convert {\n",
              "      background-color: #E8F0FE;\n",
              "      border: none;\n",
              "      border-radius: 50%;\n",
              "      cursor: pointer;\n",
              "      display: none;\n",
              "      fill: #1967D2;\n",
              "      height: 32px;\n",
              "      padding: 0 0 0 0;\n",
              "      width: 32px;\n",
              "    }\n",
              "\n",
              "    .colab-df-convert:hover {\n",
              "      background-color: #E2EBFA;\n",
              "      box-shadow: 0px 1px 2px rgba(60, 64, 67, 0.3), 0px 1px 3px 1px rgba(60, 64, 67, 0.15);\n",
              "      fill: #174EA6;\n",
              "    }\n",
              "\n",
              "    [theme=dark] .colab-df-convert {\n",
              "      background-color: #3B4455;\n",
              "      fill: #D2E3FC;\n",
              "    }\n",
              "\n",
              "    [theme=dark] .colab-df-convert:hover {\n",
              "      background-color: #434B5C;\n",
              "      box-shadow: 0px 1px 3px 1px rgba(0, 0, 0, 0.15);\n",
              "      filter: drop-shadow(0px 1px 2px rgba(0, 0, 0, 0.3));\n",
              "      fill: #FFFFFF;\n",
              "    }\n",
              "  </style>\n",
              "\n",
              "      <script>\n",
              "        const buttonEl =\n",
              "          document.querySelector('#df-9b99952d-f1a6-4266-961b-91f316901525 button.colab-df-convert');\n",
              "        buttonEl.style.display =\n",
              "          google.colab.kernel.accessAllowed ? 'block' : 'none';\n",
              "\n",
              "        async function convertToInteractive(key) {\n",
              "          const element = document.querySelector('#df-9b99952d-f1a6-4266-961b-91f316901525');\n",
              "          const dataTable =\n",
              "            await google.colab.kernel.invokeFunction('convertToInteractive',\n",
              "                                                     [key], {});\n",
              "          if (!dataTable) return;\n",
              "\n",
              "          const docLinkHtml = 'Like what you see? Visit the ' +\n",
              "            '<a target=\"_blank\" href=https://colab.research.google.com/notebooks/data_table.ipynb>data table notebook</a>'\n",
              "            + ' to learn more about interactive tables.';\n",
              "          element.innerHTML = '';\n",
              "          dataTable['output_type'] = 'display_data';\n",
              "          await google.colab.output.renderOutput(dataTable, element);\n",
              "          const docLink = document.createElement('div');\n",
              "          docLink.innerHTML = docLinkHtml;\n",
              "          element.appendChild(docLink);\n",
              "        }\n",
              "      </script>\n",
              "    </div>\n",
              "  </div>\n",
              "  "
            ]
          },
          "metadata": {},
          "execution_count": 4
        }
      ]
    },
    {
      "cell_type": "code",
      "source": [
        "df.shape"
      ],
      "metadata": {
        "colab": {
          "base_uri": "https://localhost:8080/"
        },
        "id": "xE6eusIDC9AH",
        "outputId": "f09b2d47-8a83-4059-ab77-9539da125a21"
      },
      "execution_count": 5,
      "outputs": [
        {
          "output_type": "execute_result",
          "data": {
            "text/plain": [
              "(1590, 10)"
            ]
          },
          "metadata": {},
          "execution_count": 5
        }
      ]
    },
    {
      "cell_type": "code",
      "source": [
        "df = df.dropna()\n",
        "df.shape"
      ],
      "metadata": {
        "id": "pMIOuOKQEzmp",
        "colab": {
          "base_uri": "https://localhost:8080/"
        },
        "outputId": "ef806906-5053-45d1-bb48-dd8f61d9e531"
      },
      "execution_count": 6,
      "outputs": [
        {
          "output_type": "execute_result",
          "data": {
            "text/plain": [
              "(1590, 10)"
            ]
          },
          "metadata": {},
          "execution_count": 6
        }
      ]
    },
    {
      "cell_type": "markdown",
      "source": [
        "### Mean of 'AnnualIncome' Column"
      ],
      "metadata": {
        "id": "OxuyovTpgPo9"
      }
    },
    {
      "cell_type": "code",
      "source": [
        "AnnualIncome = df.loc[:,'AnnualIncome'].values\n",
        "mu_AnnualIncome = np.mean(AnnualIncome)\n",
        "print(int(mu_AnnualIncome))"
      ],
      "metadata": {
        "colab": {
          "base_uri": "https://localhost:8080/"
        },
        "id": "7huqM2sBE5q7",
        "outputId": "733706ba-f947-4b8e-bc72-c9ec5de49165"
      },
      "execution_count": null,
      "outputs": [
        {
          "output_type": "stream",
          "name": "stdout",
          "text": [
            "928553\n"
          ]
        }
      ]
    },
    {
      "cell_type": "markdown",
      "source": [
        "### Number of People who Ever Travelled Abroad"
      ],
      "metadata": {
        "id": "uvIjuvRygXnY"
      }
    },
    {
      "cell_type": "markdown",
      "source": [
        "#### First Way"
      ],
      "metadata": {
        "id": "3CKYSOUShEx2"
      }
    },
    {
      "cell_type": "code",
      "source": [
        "print(df['EverTravelledAbroad'].value_counts()['Yes'])"
      ],
      "metadata": {
        "colab": {
          "base_uri": "https://localhost:8080/"
        },
        "id": "IvytkNoRImWK",
        "outputId": "f93354fc-96cb-447d-b2cc-fa24005f96b6"
      },
      "execution_count": 7,
      "outputs": [
        {
          "output_type": "stream",
          "name": "stdout",
          "text": [
            "302\n"
          ]
        }
      ]
    },
    {
      "cell_type": "markdown",
      "source": [
        "#### Second Way"
      ],
      "metadata": {
        "id": "213KWP3ngpa1"
      }
    },
    {
      "cell_type": "code",
      "source": [
        "print(df.loc[df['EverTravelledAbroad'] == 'Yes'].shape[0])"
      ],
      "metadata": {
        "colab": {
          "base_uri": "https://localhost:8080/"
        },
        "id": "ZQRYKteNgfyz",
        "outputId": "3c0dc450-e876-4934-ad23-fc71ac2fef9d"
      },
      "execution_count": 8,
      "outputs": [
        {
          "output_type": "stream",
          "name": "stdout",
          "text": [
            "302\n"
          ]
        }
      ]
    },
    {
      "cell_type": "markdown",
      "source": [
        "### Percentage of Employment Type"
      ],
      "metadata": {
        "id": "t7-wqLjXhMjc"
      }
    },
    {
      "cell_type": "code",
      "source": [
        "g = df['Employment Type'].value_counts()['Government Sector']\n",
        "p = df['Employment Type'].value_counts()['Private Sector/Self Employed']\n",
        "if g > p:\n",
        "  print(\"Government Sector %.2f\" % ((g/df.shape[0]) * 100))\n",
        "else:\n",
        "  print(\"Private Sector/Self Employed %.2f\" % ((p/df.shape[0]) * 100))"
      ],
      "metadata": {
        "colab": {
          "base_uri": "https://localhost:8080/"
        },
        "id": "QZ-LAoYtLZeS",
        "outputId": "0086759e-b531-46bd-8b04-0a9091d10ced"
      },
      "execution_count": 9,
      "outputs": [
        {
          "output_type": "stream",
          "name": "stdout",
          "text": [
            "Private Sector/Self Employed 72.64\n"
          ]
        }
      ]
    },
    {
      "cell_type": "markdown",
      "source": [
        "### What percentage of people that have Chronic Diseases, have Travel Insurance?"
      ],
      "metadata": {
        "id": "VaEuRrzxhTvb"
      }
    },
    {
      "cell_type": "code",
      "source": [
        "ChronicDiseases = df.loc[df['ChronicDiseases'] == 1]\n",
        "ChronicDiseases_and_TravelInsurance = ChronicDiseases['TravelInsurance'].value_counts()['Yes']\n",
        "print(\"%.2f\" % ((ChronicDiseases_and_TravelInsurance/ChronicDiseases.shape[0]) * 100))"
      ],
      "metadata": {
        "colab": {
          "base_uri": "https://localhost:8080/"
        },
        "id": "GEwVoKYfNwa8",
        "outputId": "2de5c089-a812-497d-d094-82506d8c546f"
      },
      "execution_count": 10,
      "outputs": [
        {
          "output_type": "stream",
          "name": "stdout",
          "text": [
            "37.53\n"
          ]
        }
      ]
    },
    {
      "cell_type": "markdown",
      "source": [
        "## Label Encoding"
      ],
      "metadata": {
        "id": "W3JLOjC4iOqO"
      }
    },
    {
      "cell_type": "code",
      "source": [
        "from sklearn.preprocessing import  LabelEncoder\n",
        "le = LabelEncoder()\n",
        "df['Employment Type'] = le.fit_transform(df['Employment Type'])\n",
        "df['GraduateOrNot'] = le.fit_transform(df['GraduateOrNot'])\n",
        "df['FrequentFlyer'] = le.fit_transform(df['FrequentFlyer'])\n",
        "df['EverTravelledAbroad'] = le.fit_transform(df['EverTravelledAbroad'])\n",
        "df['TravelInsurance'] = le.fit_transform(df['TravelInsurance'])\n",
        "df.head(10)"
      ],
      "metadata": {
        "colab": {
          "base_uri": "https://localhost:8080/",
          "height": 444
        },
        "id": "xiRcwX1-WuMJ",
        "outputId": "1fea5cd4-6238-406a-87ce-e9a5cf97cff0"
      },
      "execution_count": 11,
      "outputs": [
        {
          "output_type": "execute_result",
          "data": {
            "text/plain": [
              "    Customer Id  Age  Employment Type  GraduateOrNot  AnnualIncome  \\\n",
              "0  3JUN0VW6F043   34                1              1       1300000   \n",
              "1  VLHY2ABIR4QL   28                1              1        750000   \n",
              "2  6E3F7UNXYNFF   28                1              1        750000   \n",
              "3  JJ8R0ZRYWR31   32                0              1        800000   \n",
              "4  2WGFUEX6IEHM   34                1              1        700000   \n",
              "5  V4GZ5HKMGHZ1   28                0              1        300000   \n",
              "6  VZRMW8H4O2AX   29                1              1       1100000   \n",
              "7  WBJUKIWUMMIU   28                1              1        500000   \n",
              "8  W4H1AN0T8WRJ   26                1              1       1500000   \n",
              "9  NMDQXNZ6ZP3Y   31                0              0        400000   \n",
              "\n",
              "   FamilyMembers  ChronicDiseases  FrequentFlyer  EverTravelledAbroad  \\\n",
              "0              6                0              1                    0   \n",
              "1              7                0              1                    0   \n",
              "2              6                0              1                    0   \n",
              "3              6                1              0                    0   \n",
              "4              4                1              0                    0   \n",
              "5              6                1              0                    0   \n",
              "6              4                0              0                    0   \n",
              "7              5                0              0                    0   \n",
              "8              5                0              1                    1   \n",
              "9              3                0              0                    0   \n",
              "\n",
              "   TravelInsurance  \n",
              "0                0  \n",
              "1                0  \n",
              "2                0  \n",
              "3                0  \n",
              "4                0  \n",
              "5                0  \n",
              "6                0  \n",
              "7                0  \n",
              "8                1  \n",
              "9                0  "
            ],
            "text/html": [
              "\n",
              "  <div id=\"df-2d0525b4-41fb-4026-8742-310cd76181b2\">\n",
              "    <div class=\"colab-df-container\">\n",
              "      <div>\n",
              "<style scoped>\n",
              "    .dataframe tbody tr th:only-of-type {\n",
              "        vertical-align: middle;\n",
              "    }\n",
              "\n",
              "    .dataframe tbody tr th {\n",
              "        vertical-align: top;\n",
              "    }\n",
              "\n",
              "    .dataframe thead th {\n",
              "        text-align: right;\n",
              "    }\n",
              "</style>\n",
              "<table border=\"1\" class=\"dataframe\">\n",
              "  <thead>\n",
              "    <tr style=\"text-align: right;\">\n",
              "      <th></th>\n",
              "      <th>Customer Id</th>\n",
              "      <th>Age</th>\n",
              "      <th>Employment Type</th>\n",
              "      <th>GraduateOrNot</th>\n",
              "      <th>AnnualIncome</th>\n",
              "      <th>FamilyMembers</th>\n",
              "      <th>ChronicDiseases</th>\n",
              "      <th>FrequentFlyer</th>\n",
              "      <th>EverTravelledAbroad</th>\n",
              "      <th>TravelInsurance</th>\n",
              "    </tr>\n",
              "  </thead>\n",
              "  <tbody>\n",
              "    <tr>\n",
              "      <th>0</th>\n",
              "      <td>3JUN0VW6F043</td>\n",
              "      <td>34</td>\n",
              "      <td>1</td>\n",
              "      <td>1</td>\n",
              "      <td>1300000</td>\n",
              "      <td>6</td>\n",
              "      <td>0</td>\n",
              "      <td>1</td>\n",
              "      <td>0</td>\n",
              "      <td>0</td>\n",
              "    </tr>\n",
              "    <tr>\n",
              "      <th>1</th>\n",
              "      <td>VLHY2ABIR4QL</td>\n",
              "      <td>28</td>\n",
              "      <td>1</td>\n",
              "      <td>1</td>\n",
              "      <td>750000</td>\n",
              "      <td>7</td>\n",
              "      <td>0</td>\n",
              "      <td>1</td>\n",
              "      <td>0</td>\n",
              "      <td>0</td>\n",
              "    </tr>\n",
              "    <tr>\n",
              "      <th>2</th>\n",
              "      <td>6E3F7UNXYNFF</td>\n",
              "      <td>28</td>\n",
              "      <td>1</td>\n",
              "      <td>1</td>\n",
              "      <td>750000</td>\n",
              "      <td>6</td>\n",
              "      <td>0</td>\n",
              "      <td>1</td>\n",
              "      <td>0</td>\n",
              "      <td>0</td>\n",
              "    </tr>\n",
              "    <tr>\n",
              "      <th>3</th>\n",
              "      <td>JJ8R0ZRYWR31</td>\n",
              "      <td>32</td>\n",
              "      <td>0</td>\n",
              "      <td>1</td>\n",
              "      <td>800000</td>\n",
              "      <td>6</td>\n",
              "      <td>1</td>\n",
              "      <td>0</td>\n",
              "      <td>0</td>\n",
              "      <td>0</td>\n",
              "    </tr>\n",
              "    <tr>\n",
              "      <th>4</th>\n",
              "      <td>2WGFUEX6IEHM</td>\n",
              "      <td>34</td>\n",
              "      <td>1</td>\n",
              "      <td>1</td>\n",
              "      <td>700000</td>\n",
              "      <td>4</td>\n",
              "      <td>1</td>\n",
              "      <td>0</td>\n",
              "      <td>0</td>\n",
              "      <td>0</td>\n",
              "    </tr>\n",
              "    <tr>\n",
              "      <th>5</th>\n",
              "      <td>V4GZ5HKMGHZ1</td>\n",
              "      <td>28</td>\n",
              "      <td>0</td>\n",
              "      <td>1</td>\n",
              "      <td>300000</td>\n",
              "      <td>6</td>\n",
              "      <td>1</td>\n",
              "      <td>0</td>\n",
              "      <td>0</td>\n",
              "      <td>0</td>\n",
              "    </tr>\n",
              "    <tr>\n",
              "      <th>6</th>\n",
              "      <td>VZRMW8H4O2AX</td>\n",
              "      <td>29</td>\n",
              "      <td>1</td>\n",
              "      <td>1</td>\n",
              "      <td>1100000</td>\n",
              "      <td>4</td>\n",
              "      <td>0</td>\n",
              "      <td>0</td>\n",
              "      <td>0</td>\n",
              "      <td>0</td>\n",
              "    </tr>\n",
              "    <tr>\n",
              "      <th>7</th>\n",
              "      <td>WBJUKIWUMMIU</td>\n",
              "      <td>28</td>\n",
              "      <td>1</td>\n",
              "      <td>1</td>\n",
              "      <td>500000</td>\n",
              "      <td>5</td>\n",
              "      <td>0</td>\n",
              "      <td>0</td>\n",
              "      <td>0</td>\n",
              "      <td>0</td>\n",
              "    </tr>\n",
              "    <tr>\n",
              "      <th>8</th>\n",
              "      <td>W4H1AN0T8WRJ</td>\n",
              "      <td>26</td>\n",
              "      <td>1</td>\n",
              "      <td>1</td>\n",
              "      <td>1500000</td>\n",
              "      <td>5</td>\n",
              "      <td>0</td>\n",
              "      <td>1</td>\n",
              "      <td>1</td>\n",
              "      <td>1</td>\n",
              "    </tr>\n",
              "    <tr>\n",
              "      <th>9</th>\n",
              "      <td>NMDQXNZ6ZP3Y</td>\n",
              "      <td>31</td>\n",
              "      <td>0</td>\n",
              "      <td>0</td>\n",
              "      <td>400000</td>\n",
              "      <td>3</td>\n",
              "      <td>0</td>\n",
              "      <td>0</td>\n",
              "      <td>0</td>\n",
              "      <td>0</td>\n",
              "    </tr>\n",
              "  </tbody>\n",
              "</table>\n",
              "</div>\n",
              "      <button class=\"colab-df-convert\" onclick=\"convertToInteractive('df-2d0525b4-41fb-4026-8742-310cd76181b2')\"\n",
              "              title=\"Convert this dataframe to an interactive table.\"\n",
              "              style=\"display:none;\">\n",
              "        \n",
              "  <svg xmlns=\"http://www.w3.org/2000/svg\" height=\"24px\"viewBox=\"0 0 24 24\"\n",
              "       width=\"24px\">\n",
              "    <path d=\"M0 0h24v24H0V0z\" fill=\"none\"/>\n",
              "    <path d=\"M18.56 5.44l.94 2.06.94-2.06 2.06-.94-2.06-.94-.94-2.06-.94 2.06-2.06.94zm-11 1L8.5 8.5l.94-2.06 2.06-.94-2.06-.94L8.5 2.5l-.94 2.06-2.06.94zm10 10l.94 2.06.94-2.06 2.06-.94-2.06-.94-.94-2.06-.94 2.06-2.06.94z\"/><path d=\"M17.41 7.96l-1.37-1.37c-.4-.4-.92-.59-1.43-.59-.52 0-1.04.2-1.43.59L10.3 9.45l-7.72 7.72c-.78.78-.78 2.05 0 2.83L4 21.41c.39.39.9.59 1.41.59.51 0 1.02-.2 1.41-.59l7.78-7.78 2.81-2.81c.8-.78.8-2.07 0-2.86zM5.41 20L4 18.59l7.72-7.72 1.47 1.35L5.41 20z\"/>\n",
              "  </svg>\n",
              "      </button>\n",
              "      \n",
              "  <style>\n",
              "    .colab-df-container {\n",
              "      display:flex;\n",
              "      flex-wrap:wrap;\n",
              "      gap: 12px;\n",
              "    }\n",
              "\n",
              "    .colab-df-convert {\n",
              "      background-color: #E8F0FE;\n",
              "      border: none;\n",
              "      border-radius: 50%;\n",
              "      cursor: pointer;\n",
              "      display: none;\n",
              "      fill: #1967D2;\n",
              "      height: 32px;\n",
              "      padding: 0 0 0 0;\n",
              "      width: 32px;\n",
              "    }\n",
              "\n",
              "    .colab-df-convert:hover {\n",
              "      background-color: #E2EBFA;\n",
              "      box-shadow: 0px 1px 2px rgba(60, 64, 67, 0.3), 0px 1px 3px 1px rgba(60, 64, 67, 0.15);\n",
              "      fill: #174EA6;\n",
              "    }\n",
              "\n",
              "    [theme=dark] .colab-df-convert {\n",
              "      background-color: #3B4455;\n",
              "      fill: #D2E3FC;\n",
              "    }\n",
              "\n",
              "    [theme=dark] .colab-df-convert:hover {\n",
              "      background-color: #434B5C;\n",
              "      box-shadow: 0px 1px 3px 1px rgba(0, 0, 0, 0.15);\n",
              "      filter: drop-shadow(0px 1px 2px rgba(0, 0, 0, 0.3));\n",
              "      fill: #FFFFFF;\n",
              "    }\n",
              "  </style>\n",
              "\n",
              "      <script>\n",
              "        const buttonEl =\n",
              "          document.querySelector('#df-2d0525b4-41fb-4026-8742-310cd76181b2 button.colab-df-convert');\n",
              "        buttonEl.style.display =\n",
              "          google.colab.kernel.accessAllowed ? 'block' : 'none';\n",
              "\n",
              "        async function convertToInteractive(key) {\n",
              "          const element = document.querySelector('#df-2d0525b4-41fb-4026-8742-310cd76181b2');\n",
              "          const dataTable =\n",
              "            await google.colab.kernel.invokeFunction('convertToInteractive',\n",
              "                                                     [key], {});\n",
              "          if (!dataTable) return;\n",
              "\n",
              "          const docLinkHtml = 'Like what you see? Visit the ' +\n",
              "            '<a target=\"_blank\" href=https://colab.research.google.com/notebooks/data_table.ipynb>data table notebook</a>'\n",
              "            + ' to learn more about interactive tables.';\n",
              "          element.innerHTML = '';\n",
              "          dataTable['output_type'] = 'display_data';\n",
              "          await google.colab.output.renderOutput(dataTable, element);\n",
              "          const docLink = document.createElement('div');\n",
              "          docLink.innerHTML = docLinkHtml;\n",
              "          element.appendChild(docLink);\n",
              "        }\n",
              "      </script>\n",
              "    </div>\n",
              "  </div>\n",
              "  "
            ]
          },
          "metadata": {},
          "execution_count": 11
        }
      ]
    },
    {
      "cell_type": "markdown",
      "source": [
        "## Separation X and Y"
      ],
      "metadata": {
        "id": "okU36uA5infF"
      }
    },
    {
      "cell_type": "code",
      "source": [
        "x = df.iloc[:,1:-1].values\n",
        "y = df.iloc[:,-1].values\n",
        "print(x.shape)\n",
        "print(y.shape)"
      ],
      "metadata": {
        "colab": {
          "base_uri": "https://localhost:8080/"
        },
        "id": "OBpypVOvSsK5",
        "outputId": "de37587b-4cac-47b8-c096-16b63600b09a"
      },
      "execution_count": 12,
      "outputs": [
        {
          "output_type": "stream",
          "name": "stdout",
          "text": [
            "(1590, 8)\n",
            "(1590,)\n"
          ]
        }
      ]
    },
    {
      "cell_type": "markdown",
      "source": [
        "## Standardize Train Data"
      ],
      "metadata": {
        "id": "RJYiW3ADisQy"
      }
    },
    {
      "cell_type": "code",
      "source": [
        "from sklearn.preprocessing import StandardScaler\n",
        "sc = StandardScaler()\n",
        "X_train = sc.fit_transform(x)\n",
        "X_train"
      ],
      "metadata": {
        "colab": {
          "base_uri": "https://localhost:8080/"
        },
        "id": "977kSC5XWkxe",
        "outputId": "d1bc1552-e53b-4fa5-d3fc-4945a52ad8c9"
      },
      "execution_count": 13,
      "outputs": [
        {
          "output_type": "execute_result",
          "data": {
            "text/plain": [
              "array([[ 1.49582054,  0.61369649,  0.41123916, ..., -0.62341502,\n",
              "         1.96529522, -0.48422314],\n",
              "       [-0.56365817,  0.61369649,  0.41123916, ..., -0.62341502,\n",
              "         1.96529522, -0.48422314],\n",
              "       [-0.56365817,  0.61369649,  0.41123916, ..., -0.62341502,\n",
              "         1.96529522, -0.48422314],\n",
              "       ...,\n",
              "       [ 1.49582054,  0.61369649, -2.43167504, ..., -0.62341502,\n",
              "        -0.50882941, -0.48422314],\n",
              "       [ 1.15257409, -1.62946998,  0.41123916, ..., -0.62341502,\n",
              "        -0.50882941, -0.48422314],\n",
              "       [-0.56365817,  0.61369649,  0.41123916, ...,  1.60406786,\n",
              "         1.96529522, -0.48422314]])"
            ]
          },
          "metadata": {},
          "execution_count": 13
        }
      ]
    },
    {
      "cell_type": "markdown",
      "source": [
        "## Read Test Data"
      ],
      "metadata": {
        "id": "yDgsP5Fwi9bm"
      }
    },
    {
      "cell_type": "code",
      "source": [
        "test = pd.read_csv('travel_insurance/test.csv')\n",
        "test.head(10)"
      ],
      "metadata": {
        "colab": {
          "base_uri": "https://localhost:8080/",
          "height": 459
        },
        "id": "TZvmlczSYNqx",
        "outputId": "f65bc6bf-7061-4227-dc22-583483a4bfec"
      },
      "execution_count": 14,
      "outputs": [
        {
          "output_type": "execute_result",
          "data": {
            "text/plain": [
              "    Customer Id  Age               Employment Type GraduateOrNot  \\\n",
              "0  Q5OK4L2Q5XNH   34             Government Sector           Yes   \n",
              "1  CBHVMVE7TRP5   28  Private Sector/Self Employed           Yes   \n",
              "2  9UGHQ91U4F0M   28  Private Sector/Self Employed           Yes   \n",
              "3  3UWXWMZK4ZGL   33  Private Sector/Self Employed           Yes   \n",
              "4  5CGEMLMBOPES   26             Government Sector           Yes   \n",
              "5  SPJ0K6KGDGN7   27             Government Sector           Yes   \n",
              "6  9EFRT3UC3PDN   27             Government Sector           Yes   \n",
              "7  7BH09UOH5SVF   31             Government Sector           Yes   \n",
              "8  VYY6N0NLM8UE   31             Government Sector           Yes   \n",
              "9  NVER903056B7   33             Government Sector           Yes   \n",
              "\n",
              "   AnnualIncome  FamilyMembers  ChronicDiseases FrequentFlyer  \\\n",
              "0       1300000              7                0            No   \n",
              "1       1450000              4                0           Yes   \n",
              "2        900000              9                1            No   \n",
              "3       1500000              5                0           Yes   \n",
              "4        500000              5                0            No   \n",
              "5       1050000              5                0           Yes   \n",
              "6       1050000              4                0            No   \n",
              "7       1300000              4                1            No   \n",
              "8       1300000              4                0            No   \n",
              "9        700000              3                0            No   \n",
              "\n",
              "  EverTravelledAbroad  \n",
              "0                  No  \n",
              "1                 Yes  \n",
              "2                 Yes  \n",
              "3                 Yes  \n",
              "4                  No  \n",
              "5                  No  \n",
              "6                  No  \n",
              "7                  No  \n",
              "8                  No  \n",
              "9                  No  "
            ],
            "text/html": [
              "\n",
              "  <div id=\"df-1331d819-9e04-4706-a199-715044dd5e54\">\n",
              "    <div class=\"colab-df-container\">\n",
              "      <div>\n",
              "<style scoped>\n",
              "    .dataframe tbody tr th:only-of-type {\n",
              "        vertical-align: middle;\n",
              "    }\n",
              "\n",
              "    .dataframe tbody tr th {\n",
              "        vertical-align: top;\n",
              "    }\n",
              "\n",
              "    .dataframe thead th {\n",
              "        text-align: right;\n",
              "    }\n",
              "</style>\n",
              "<table border=\"1\" class=\"dataframe\">\n",
              "  <thead>\n",
              "    <tr style=\"text-align: right;\">\n",
              "      <th></th>\n",
              "      <th>Customer Id</th>\n",
              "      <th>Age</th>\n",
              "      <th>Employment Type</th>\n",
              "      <th>GraduateOrNot</th>\n",
              "      <th>AnnualIncome</th>\n",
              "      <th>FamilyMembers</th>\n",
              "      <th>ChronicDiseases</th>\n",
              "      <th>FrequentFlyer</th>\n",
              "      <th>EverTravelledAbroad</th>\n",
              "    </tr>\n",
              "  </thead>\n",
              "  <tbody>\n",
              "    <tr>\n",
              "      <th>0</th>\n",
              "      <td>Q5OK4L2Q5XNH</td>\n",
              "      <td>34</td>\n",
              "      <td>Government Sector</td>\n",
              "      <td>Yes</td>\n",
              "      <td>1300000</td>\n",
              "      <td>7</td>\n",
              "      <td>0</td>\n",
              "      <td>No</td>\n",
              "      <td>No</td>\n",
              "    </tr>\n",
              "    <tr>\n",
              "      <th>1</th>\n",
              "      <td>CBHVMVE7TRP5</td>\n",
              "      <td>28</td>\n",
              "      <td>Private Sector/Self Employed</td>\n",
              "      <td>Yes</td>\n",
              "      <td>1450000</td>\n",
              "      <td>4</td>\n",
              "      <td>0</td>\n",
              "      <td>Yes</td>\n",
              "      <td>Yes</td>\n",
              "    </tr>\n",
              "    <tr>\n",
              "      <th>2</th>\n",
              "      <td>9UGHQ91U4F0M</td>\n",
              "      <td>28</td>\n",
              "      <td>Private Sector/Self Employed</td>\n",
              "      <td>Yes</td>\n",
              "      <td>900000</td>\n",
              "      <td>9</td>\n",
              "      <td>1</td>\n",
              "      <td>No</td>\n",
              "      <td>Yes</td>\n",
              "    </tr>\n",
              "    <tr>\n",
              "      <th>3</th>\n",
              "      <td>3UWXWMZK4ZGL</td>\n",
              "      <td>33</td>\n",
              "      <td>Private Sector/Self Employed</td>\n",
              "      <td>Yes</td>\n",
              "      <td>1500000</td>\n",
              "      <td>5</td>\n",
              "      <td>0</td>\n",
              "      <td>Yes</td>\n",
              "      <td>Yes</td>\n",
              "    </tr>\n",
              "    <tr>\n",
              "      <th>4</th>\n",
              "      <td>5CGEMLMBOPES</td>\n",
              "      <td>26</td>\n",
              "      <td>Government Sector</td>\n",
              "      <td>Yes</td>\n",
              "      <td>500000</td>\n",
              "      <td>5</td>\n",
              "      <td>0</td>\n",
              "      <td>No</td>\n",
              "      <td>No</td>\n",
              "    </tr>\n",
              "    <tr>\n",
              "      <th>5</th>\n",
              "      <td>SPJ0K6KGDGN7</td>\n",
              "      <td>27</td>\n",
              "      <td>Government Sector</td>\n",
              "      <td>Yes</td>\n",
              "      <td>1050000</td>\n",
              "      <td>5</td>\n",
              "      <td>0</td>\n",
              "      <td>Yes</td>\n",
              "      <td>No</td>\n",
              "    </tr>\n",
              "    <tr>\n",
              "      <th>6</th>\n",
              "      <td>9EFRT3UC3PDN</td>\n",
              "      <td>27</td>\n",
              "      <td>Government Sector</td>\n",
              "      <td>Yes</td>\n",
              "      <td>1050000</td>\n",
              "      <td>4</td>\n",
              "      <td>0</td>\n",
              "      <td>No</td>\n",
              "      <td>No</td>\n",
              "    </tr>\n",
              "    <tr>\n",
              "      <th>7</th>\n",
              "      <td>7BH09UOH5SVF</td>\n",
              "      <td>31</td>\n",
              "      <td>Government Sector</td>\n",
              "      <td>Yes</td>\n",
              "      <td>1300000</td>\n",
              "      <td>4</td>\n",
              "      <td>1</td>\n",
              "      <td>No</td>\n",
              "      <td>No</td>\n",
              "    </tr>\n",
              "    <tr>\n",
              "      <th>8</th>\n",
              "      <td>VYY6N0NLM8UE</td>\n",
              "      <td>31</td>\n",
              "      <td>Government Sector</td>\n",
              "      <td>Yes</td>\n",
              "      <td>1300000</td>\n",
              "      <td>4</td>\n",
              "      <td>0</td>\n",
              "      <td>No</td>\n",
              "      <td>No</td>\n",
              "    </tr>\n",
              "    <tr>\n",
              "      <th>9</th>\n",
              "      <td>NVER903056B7</td>\n",
              "      <td>33</td>\n",
              "      <td>Government Sector</td>\n",
              "      <td>Yes</td>\n",
              "      <td>700000</td>\n",
              "      <td>3</td>\n",
              "      <td>0</td>\n",
              "      <td>No</td>\n",
              "      <td>No</td>\n",
              "    </tr>\n",
              "  </tbody>\n",
              "</table>\n",
              "</div>\n",
              "      <button class=\"colab-df-convert\" onclick=\"convertToInteractive('df-1331d819-9e04-4706-a199-715044dd5e54')\"\n",
              "              title=\"Convert this dataframe to an interactive table.\"\n",
              "              style=\"display:none;\">\n",
              "        \n",
              "  <svg xmlns=\"http://www.w3.org/2000/svg\" height=\"24px\"viewBox=\"0 0 24 24\"\n",
              "       width=\"24px\">\n",
              "    <path d=\"M0 0h24v24H0V0z\" fill=\"none\"/>\n",
              "    <path d=\"M18.56 5.44l.94 2.06.94-2.06 2.06-.94-2.06-.94-.94-2.06-.94 2.06-2.06.94zm-11 1L8.5 8.5l.94-2.06 2.06-.94-2.06-.94L8.5 2.5l-.94 2.06-2.06.94zm10 10l.94 2.06.94-2.06 2.06-.94-2.06-.94-.94-2.06-.94 2.06-2.06.94z\"/><path d=\"M17.41 7.96l-1.37-1.37c-.4-.4-.92-.59-1.43-.59-.52 0-1.04.2-1.43.59L10.3 9.45l-7.72 7.72c-.78.78-.78 2.05 0 2.83L4 21.41c.39.39.9.59 1.41.59.51 0 1.02-.2 1.41-.59l7.78-7.78 2.81-2.81c.8-.78.8-2.07 0-2.86zM5.41 20L4 18.59l7.72-7.72 1.47 1.35L5.41 20z\"/>\n",
              "  </svg>\n",
              "      </button>\n",
              "      \n",
              "  <style>\n",
              "    .colab-df-container {\n",
              "      display:flex;\n",
              "      flex-wrap:wrap;\n",
              "      gap: 12px;\n",
              "    }\n",
              "\n",
              "    .colab-df-convert {\n",
              "      background-color: #E8F0FE;\n",
              "      border: none;\n",
              "      border-radius: 50%;\n",
              "      cursor: pointer;\n",
              "      display: none;\n",
              "      fill: #1967D2;\n",
              "      height: 32px;\n",
              "      padding: 0 0 0 0;\n",
              "      width: 32px;\n",
              "    }\n",
              "\n",
              "    .colab-df-convert:hover {\n",
              "      background-color: #E2EBFA;\n",
              "      box-shadow: 0px 1px 2px rgba(60, 64, 67, 0.3), 0px 1px 3px 1px rgba(60, 64, 67, 0.15);\n",
              "      fill: #174EA6;\n",
              "    }\n",
              "\n",
              "    [theme=dark] .colab-df-convert {\n",
              "      background-color: #3B4455;\n",
              "      fill: #D2E3FC;\n",
              "    }\n",
              "\n",
              "    [theme=dark] .colab-df-convert:hover {\n",
              "      background-color: #434B5C;\n",
              "      box-shadow: 0px 1px 3px 1px rgba(0, 0, 0, 0.15);\n",
              "      filter: drop-shadow(0px 1px 2px rgba(0, 0, 0, 0.3));\n",
              "      fill: #FFFFFF;\n",
              "    }\n",
              "  </style>\n",
              "\n",
              "      <script>\n",
              "        const buttonEl =\n",
              "          document.querySelector('#df-1331d819-9e04-4706-a199-715044dd5e54 button.colab-df-convert');\n",
              "        buttonEl.style.display =\n",
              "          google.colab.kernel.accessAllowed ? 'block' : 'none';\n",
              "\n",
              "        async function convertToInteractive(key) {\n",
              "          const element = document.querySelector('#df-1331d819-9e04-4706-a199-715044dd5e54');\n",
              "          const dataTable =\n",
              "            await google.colab.kernel.invokeFunction('convertToInteractive',\n",
              "                                                     [key], {});\n",
              "          if (!dataTable) return;\n",
              "\n",
              "          const docLinkHtml = 'Like what you see? Visit the ' +\n",
              "            '<a target=\"_blank\" href=https://colab.research.google.com/notebooks/data_table.ipynb>data table notebook</a>'\n",
              "            + ' to learn more about interactive tables.';\n",
              "          element.innerHTML = '';\n",
              "          dataTable['output_type'] = 'display_data';\n",
              "          await google.colab.output.renderOutput(dataTable, element);\n",
              "          const docLink = document.createElement('div');\n",
              "          docLink.innerHTML = docLinkHtml;\n",
              "          element.appendChild(docLink);\n",
              "        }\n",
              "      </script>\n",
              "    </div>\n",
              "  </div>\n",
              "  "
            ]
          },
          "metadata": {},
          "execution_count": 14
        }
      ]
    },
    {
      "cell_type": "markdown",
      "source": [
        "### Also We should Encode our Test data"
      ],
      "metadata": {
        "id": "-4xdcbPajRxv"
      }
    },
    {
      "cell_type": "code",
      "source": [
        "test['Employment Type'] = le.fit_transform(test['Employment Type'])\n",
        "test['GraduateOrNot'] = le.fit_transform(test['GraduateOrNot'])\n",
        "test['FrequentFlyer'] = le.fit_transform(test['FrequentFlyer'])\n",
        "test['EverTravelledAbroad'] = le.fit_transform(test['EverTravelledAbroad'])\n",
        "test.head(10)"
      ],
      "metadata": {
        "colab": {
          "base_uri": "https://localhost:8080/",
          "height": 407
        },
        "id": "pvBeVcCQYdr2",
        "outputId": "d3612e60-e2c4-4cad-c409-760a35f9a31d"
      },
      "execution_count": 15,
      "outputs": [
        {
          "output_type": "execute_result",
          "data": {
            "text/plain": [
              "    Customer Id  Age  Employment Type  GraduateOrNot  AnnualIncome  \\\n",
              "0  Q5OK4L2Q5XNH   34                0              1       1300000   \n",
              "1  CBHVMVE7TRP5   28                1              1       1450000   \n",
              "2  9UGHQ91U4F0M   28                1              1        900000   \n",
              "3  3UWXWMZK4ZGL   33                1              1       1500000   \n",
              "4  5CGEMLMBOPES   26                0              1        500000   \n",
              "5  SPJ0K6KGDGN7   27                0              1       1050000   \n",
              "6  9EFRT3UC3PDN   27                0              1       1050000   \n",
              "7  7BH09UOH5SVF   31                0              1       1300000   \n",
              "8  VYY6N0NLM8UE   31                0              1       1300000   \n",
              "9  NVER903056B7   33                0              1        700000   \n",
              "\n",
              "   FamilyMembers  ChronicDiseases  FrequentFlyer  EverTravelledAbroad  \n",
              "0              7                0              0                    0  \n",
              "1              4                0              1                    1  \n",
              "2              9                1              0                    1  \n",
              "3              5                0              1                    1  \n",
              "4              5                0              0                    0  \n",
              "5              5                0              1                    0  \n",
              "6              4                0              0                    0  \n",
              "7              4                1              0                    0  \n",
              "8              4                0              0                    0  \n",
              "9              3                0              0                    0  "
            ],
            "text/html": [
              "\n",
              "  <div id=\"df-6be27f69-1eb5-4e7c-8dc2-5120daa7432e\">\n",
              "    <div class=\"colab-df-container\">\n",
              "      <div>\n",
              "<style scoped>\n",
              "    .dataframe tbody tr th:only-of-type {\n",
              "        vertical-align: middle;\n",
              "    }\n",
              "\n",
              "    .dataframe tbody tr th {\n",
              "        vertical-align: top;\n",
              "    }\n",
              "\n",
              "    .dataframe thead th {\n",
              "        text-align: right;\n",
              "    }\n",
              "</style>\n",
              "<table border=\"1\" class=\"dataframe\">\n",
              "  <thead>\n",
              "    <tr style=\"text-align: right;\">\n",
              "      <th></th>\n",
              "      <th>Customer Id</th>\n",
              "      <th>Age</th>\n",
              "      <th>Employment Type</th>\n",
              "      <th>GraduateOrNot</th>\n",
              "      <th>AnnualIncome</th>\n",
              "      <th>FamilyMembers</th>\n",
              "      <th>ChronicDiseases</th>\n",
              "      <th>FrequentFlyer</th>\n",
              "      <th>EverTravelledAbroad</th>\n",
              "    </tr>\n",
              "  </thead>\n",
              "  <tbody>\n",
              "    <tr>\n",
              "      <th>0</th>\n",
              "      <td>Q5OK4L2Q5XNH</td>\n",
              "      <td>34</td>\n",
              "      <td>0</td>\n",
              "      <td>1</td>\n",
              "      <td>1300000</td>\n",
              "      <td>7</td>\n",
              "      <td>0</td>\n",
              "      <td>0</td>\n",
              "      <td>0</td>\n",
              "    </tr>\n",
              "    <tr>\n",
              "      <th>1</th>\n",
              "      <td>CBHVMVE7TRP5</td>\n",
              "      <td>28</td>\n",
              "      <td>1</td>\n",
              "      <td>1</td>\n",
              "      <td>1450000</td>\n",
              "      <td>4</td>\n",
              "      <td>0</td>\n",
              "      <td>1</td>\n",
              "      <td>1</td>\n",
              "    </tr>\n",
              "    <tr>\n",
              "      <th>2</th>\n",
              "      <td>9UGHQ91U4F0M</td>\n",
              "      <td>28</td>\n",
              "      <td>1</td>\n",
              "      <td>1</td>\n",
              "      <td>900000</td>\n",
              "      <td>9</td>\n",
              "      <td>1</td>\n",
              "      <td>0</td>\n",
              "      <td>1</td>\n",
              "    </tr>\n",
              "    <tr>\n",
              "      <th>3</th>\n",
              "      <td>3UWXWMZK4ZGL</td>\n",
              "      <td>33</td>\n",
              "      <td>1</td>\n",
              "      <td>1</td>\n",
              "      <td>1500000</td>\n",
              "      <td>5</td>\n",
              "      <td>0</td>\n",
              "      <td>1</td>\n",
              "      <td>1</td>\n",
              "    </tr>\n",
              "    <tr>\n",
              "      <th>4</th>\n",
              "      <td>5CGEMLMBOPES</td>\n",
              "      <td>26</td>\n",
              "      <td>0</td>\n",
              "      <td>1</td>\n",
              "      <td>500000</td>\n",
              "      <td>5</td>\n",
              "      <td>0</td>\n",
              "      <td>0</td>\n",
              "      <td>0</td>\n",
              "    </tr>\n",
              "    <tr>\n",
              "      <th>5</th>\n",
              "      <td>SPJ0K6KGDGN7</td>\n",
              "      <td>27</td>\n",
              "      <td>0</td>\n",
              "      <td>1</td>\n",
              "      <td>1050000</td>\n",
              "      <td>5</td>\n",
              "      <td>0</td>\n",
              "      <td>1</td>\n",
              "      <td>0</td>\n",
              "    </tr>\n",
              "    <tr>\n",
              "      <th>6</th>\n",
              "      <td>9EFRT3UC3PDN</td>\n",
              "      <td>27</td>\n",
              "      <td>0</td>\n",
              "      <td>1</td>\n",
              "      <td>1050000</td>\n",
              "      <td>4</td>\n",
              "      <td>0</td>\n",
              "      <td>0</td>\n",
              "      <td>0</td>\n",
              "    </tr>\n",
              "    <tr>\n",
              "      <th>7</th>\n",
              "      <td>7BH09UOH5SVF</td>\n",
              "      <td>31</td>\n",
              "      <td>0</td>\n",
              "      <td>1</td>\n",
              "      <td>1300000</td>\n",
              "      <td>4</td>\n",
              "      <td>1</td>\n",
              "      <td>0</td>\n",
              "      <td>0</td>\n",
              "    </tr>\n",
              "    <tr>\n",
              "      <th>8</th>\n",
              "      <td>VYY6N0NLM8UE</td>\n",
              "      <td>31</td>\n",
              "      <td>0</td>\n",
              "      <td>1</td>\n",
              "      <td>1300000</td>\n",
              "      <td>4</td>\n",
              "      <td>0</td>\n",
              "      <td>0</td>\n",
              "      <td>0</td>\n",
              "    </tr>\n",
              "    <tr>\n",
              "      <th>9</th>\n",
              "      <td>NVER903056B7</td>\n",
              "      <td>33</td>\n",
              "      <td>0</td>\n",
              "      <td>1</td>\n",
              "      <td>700000</td>\n",
              "      <td>3</td>\n",
              "      <td>0</td>\n",
              "      <td>0</td>\n",
              "      <td>0</td>\n",
              "    </tr>\n",
              "  </tbody>\n",
              "</table>\n",
              "</div>\n",
              "      <button class=\"colab-df-convert\" onclick=\"convertToInteractive('df-6be27f69-1eb5-4e7c-8dc2-5120daa7432e')\"\n",
              "              title=\"Convert this dataframe to an interactive table.\"\n",
              "              style=\"display:none;\">\n",
              "        \n",
              "  <svg xmlns=\"http://www.w3.org/2000/svg\" height=\"24px\"viewBox=\"0 0 24 24\"\n",
              "       width=\"24px\">\n",
              "    <path d=\"M0 0h24v24H0V0z\" fill=\"none\"/>\n",
              "    <path d=\"M18.56 5.44l.94 2.06.94-2.06 2.06-.94-2.06-.94-.94-2.06-.94 2.06-2.06.94zm-11 1L8.5 8.5l.94-2.06 2.06-.94-2.06-.94L8.5 2.5l-.94 2.06-2.06.94zm10 10l.94 2.06.94-2.06 2.06-.94-2.06-.94-.94-2.06-.94 2.06-2.06.94z\"/><path d=\"M17.41 7.96l-1.37-1.37c-.4-.4-.92-.59-1.43-.59-.52 0-1.04.2-1.43.59L10.3 9.45l-7.72 7.72c-.78.78-.78 2.05 0 2.83L4 21.41c.39.39.9.59 1.41.59.51 0 1.02-.2 1.41-.59l7.78-7.78 2.81-2.81c.8-.78.8-2.07 0-2.86zM5.41 20L4 18.59l7.72-7.72 1.47 1.35L5.41 20z\"/>\n",
              "  </svg>\n",
              "      </button>\n",
              "      \n",
              "  <style>\n",
              "    .colab-df-container {\n",
              "      display:flex;\n",
              "      flex-wrap:wrap;\n",
              "      gap: 12px;\n",
              "    }\n",
              "\n",
              "    .colab-df-convert {\n",
              "      background-color: #E8F0FE;\n",
              "      border: none;\n",
              "      border-radius: 50%;\n",
              "      cursor: pointer;\n",
              "      display: none;\n",
              "      fill: #1967D2;\n",
              "      height: 32px;\n",
              "      padding: 0 0 0 0;\n",
              "      width: 32px;\n",
              "    }\n",
              "\n",
              "    .colab-df-convert:hover {\n",
              "      background-color: #E2EBFA;\n",
              "      box-shadow: 0px 1px 2px rgba(60, 64, 67, 0.3), 0px 1px 3px 1px rgba(60, 64, 67, 0.15);\n",
              "      fill: #174EA6;\n",
              "    }\n",
              "\n",
              "    [theme=dark] .colab-df-convert {\n",
              "      background-color: #3B4455;\n",
              "      fill: #D2E3FC;\n",
              "    }\n",
              "\n",
              "    [theme=dark] .colab-df-convert:hover {\n",
              "      background-color: #434B5C;\n",
              "      box-shadow: 0px 1px 3px 1px rgba(0, 0, 0, 0.15);\n",
              "      filter: drop-shadow(0px 1px 2px rgba(0, 0, 0, 0.3));\n",
              "      fill: #FFFFFF;\n",
              "    }\n",
              "  </style>\n",
              "\n",
              "      <script>\n",
              "        const buttonEl =\n",
              "          document.querySelector('#df-6be27f69-1eb5-4e7c-8dc2-5120daa7432e button.colab-df-convert');\n",
              "        buttonEl.style.display =\n",
              "          google.colab.kernel.accessAllowed ? 'block' : 'none';\n",
              "\n",
              "        async function convertToInteractive(key) {\n",
              "          const element = document.querySelector('#df-6be27f69-1eb5-4e7c-8dc2-5120daa7432e');\n",
              "          const dataTable =\n",
              "            await google.colab.kernel.invokeFunction('convertToInteractive',\n",
              "                                                     [key], {});\n",
              "          if (!dataTable) return;\n",
              "\n",
              "          const docLinkHtml = 'Like what you see? Visit the ' +\n",
              "            '<a target=\"_blank\" href=https://colab.research.google.com/notebooks/data_table.ipynb>data table notebook</a>'\n",
              "            + ' to learn more about interactive tables.';\n",
              "          element.innerHTML = '';\n",
              "          dataTable['output_type'] = 'display_data';\n",
              "          await google.colab.output.renderOutput(dataTable, element);\n",
              "          const docLink = document.createElement('div');\n",
              "          docLink.innerHTML = docLinkHtml;\n",
              "          element.appendChild(docLink);\n",
              "        }\n",
              "      </script>\n",
              "    </div>\n",
              "  </div>\n",
              "  "
            ]
          },
          "metadata": {},
          "execution_count": 15
        }
      ]
    },
    {
      "cell_type": "markdown",
      "source": [
        "### X Test Separation"
      ],
      "metadata": {
        "id": "lz22rogljjoV"
      }
    },
    {
      "cell_type": "code",
      "source": [
        "X_test = test.iloc[:,1:].values\n",
        "print(X_test.shape)"
      ],
      "metadata": {
        "colab": {
          "base_uri": "https://localhost:8080/"
        },
        "id": "pLSinH8UZf3z",
        "outputId": "628babc2-72c1-4a17-9fbf-21bdcac5d60e"
      },
      "execution_count": 16,
      "outputs": [
        {
          "output_type": "stream",
          "name": "stdout",
          "text": [
            "(397, 8)\n"
          ]
        }
      ]
    },
    {
      "cell_type": "markdown",
      "source": [
        "### We should Standardize our Test data too"
      ],
      "metadata": {
        "id": "NS5nR6OxkCfQ"
      }
    },
    {
      "cell_type": "code",
      "source": [
        "X_test = sc.transform(X_test)\n",
        "X_test"
      ],
      "metadata": {
        "colab": {
          "base_uri": "https://localhost:8080/"
        },
        "id": "VbzG1WjCZ16r",
        "outputId": "7b6bb045-e419-400f-900a-3a18c973a4d1"
      },
      "execution_count": 17,
      "outputs": [
        {
          "output_type": "execute_result",
          "data": {
            "text/plain": [
              "array([[ 1.49582054, -1.62946998,  0.41123916, ..., -0.62341502,\n",
              "        -0.50882941, -0.48422314],\n",
              "       [-0.56365817,  0.61369649,  0.41123916, ..., -0.62341502,\n",
              "         1.96529522,  2.06516359],\n",
              "       [-0.56365817,  0.61369649,  0.41123916, ...,  1.60406786,\n",
              "        -0.50882941,  2.06516359],\n",
              "       ...,\n",
              "       [-0.56365817,  0.61369649,  0.41123916, ...,  1.60406786,\n",
              "        -0.50882941, -0.48422314],\n",
              "       [-0.56365817,  0.61369649,  0.41123916, ..., -0.62341502,\n",
              "        -0.50882941, -0.48422314],\n",
              "       [-0.56365817, -1.62946998,  0.41123916, ..., -0.62341502,\n",
              "        -0.50882941, -0.48422314]])"
            ]
          },
          "metadata": {},
          "execution_count": 17
        }
      ]
    },
    {
      "cell_type": "code",
      "source": [
        "print(X_train.shape)\n",
        "print(y.shape)\n",
        "print(X_test.shape)"
      ],
      "metadata": {
        "colab": {
          "base_uri": "https://localhost:8080/"
        },
        "id": "Axs-qcVrkKrz",
        "outputId": "ed1bb6f6-4fc3-41ce-ad06-5d4e6edab543"
      },
      "execution_count": 18,
      "outputs": [
        {
          "output_type": "stream",
          "name": "stdout",
          "text": [
            "(1590, 8)\n",
            "(1590,)\n",
            "(397, 8)\n"
          ]
        }
      ]
    },
    {
      "cell_type": "markdown",
      "source": [
        "### Predict with Logistic Regression"
      ],
      "metadata": {
        "id": "ZXnYLvfHkXtQ"
      }
    },
    {
      "cell_type": "code",
      "source": [
        "from sklearn.linear_model import LogisticRegression\n",
        "from sklearn.metrics import accuracy_score\n",
        "classifier_LR = LogisticRegression(random_state = 42)\n",
        "classifier_LR.fit(X_train, y)"
      ],
      "metadata": {
        "colab": {
          "base_uri": "https://localhost:8080/"
        },
        "id": "JiXNK8ekXvD-",
        "outputId": "55346a61-0b6a-45a0-e259-fafe2180cf20"
      },
      "execution_count": 19,
      "outputs": [
        {
          "output_type": "execute_result",
          "data": {
            "text/plain": [
              "LogisticRegression(random_state=42)"
            ]
          },
          "metadata": {},
          "execution_count": 19
        }
      ]
    },
    {
      "cell_type": "code",
      "source": [
        "y_pred_lr = classifier_LR.predict(X_test)\n",
        "dframe = pd.DataFrame({'Customer Id': test['Customer Id'], 'prediction': y_pred_lr})\n",
        "dframe.head(10)"
      ],
      "metadata": {
        "colab": {
          "base_uri": "https://localhost:8080/",
          "height": 363
        },
        "id": "mgxrKfPKaOQU",
        "outputId": "a1e89e99-5715-4f13-e2bb-12629e94f75a"
      },
      "execution_count": 20,
      "outputs": [
        {
          "output_type": "execute_result",
          "data": {
            "text/plain": [
              "    Customer Id  prediction\n",
              "0  Q5OK4L2Q5XNH           0\n",
              "1  CBHVMVE7TRP5           1\n",
              "2  9UGHQ91U4F0M           1\n",
              "3  3UWXWMZK4ZGL           1\n",
              "4  5CGEMLMBOPES           0\n",
              "5  SPJ0K6KGDGN7           0\n",
              "6  9EFRT3UC3PDN           0\n",
              "7  7BH09UOH5SVF           0\n",
              "8  VYY6N0NLM8UE           0\n",
              "9  NVER903056B7           0"
            ],
            "text/html": [
              "\n",
              "  <div id=\"df-5134dbce-1554-4152-8bad-0a07a3cda129\">\n",
              "    <div class=\"colab-df-container\">\n",
              "      <div>\n",
              "<style scoped>\n",
              "    .dataframe tbody tr th:only-of-type {\n",
              "        vertical-align: middle;\n",
              "    }\n",
              "\n",
              "    .dataframe tbody tr th {\n",
              "        vertical-align: top;\n",
              "    }\n",
              "\n",
              "    .dataframe thead th {\n",
              "        text-align: right;\n",
              "    }\n",
              "</style>\n",
              "<table border=\"1\" class=\"dataframe\">\n",
              "  <thead>\n",
              "    <tr style=\"text-align: right;\">\n",
              "      <th></th>\n",
              "      <th>Customer Id</th>\n",
              "      <th>prediction</th>\n",
              "    </tr>\n",
              "  </thead>\n",
              "  <tbody>\n",
              "    <tr>\n",
              "      <th>0</th>\n",
              "      <td>Q5OK4L2Q5XNH</td>\n",
              "      <td>0</td>\n",
              "    </tr>\n",
              "    <tr>\n",
              "      <th>1</th>\n",
              "      <td>CBHVMVE7TRP5</td>\n",
              "      <td>1</td>\n",
              "    </tr>\n",
              "    <tr>\n",
              "      <th>2</th>\n",
              "      <td>9UGHQ91U4F0M</td>\n",
              "      <td>1</td>\n",
              "    </tr>\n",
              "    <tr>\n",
              "      <th>3</th>\n",
              "      <td>3UWXWMZK4ZGL</td>\n",
              "      <td>1</td>\n",
              "    </tr>\n",
              "    <tr>\n",
              "      <th>4</th>\n",
              "      <td>5CGEMLMBOPES</td>\n",
              "      <td>0</td>\n",
              "    </tr>\n",
              "    <tr>\n",
              "      <th>5</th>\n",
              "      <td>SPJ0K6KGDGN7</td>\n",
              "      <td>0</td>\n",
              "    </tr>\n",
              "    <tr>\n",
              "      <th>6</th>\n",
              "      <td>9EFRT3UC3PDN</td>\n",
              "      <td>0</td>\n",
              "    </tr>\n",
              "    <tr>\n",
              "      <th>7</th>\n",
              "      <td>7BH09UOH5SVF</td>\n",
              "      <td>0</td>\n",
              "    </tr>\n",
              "    <tr>\n",
              "      <th>8</th>\n",
              "      <td>VYY6N0NLM8UE</td>\n",
              "      <td>0</td>\n",
              "    </tr>\n",
              "    <tr>\n",
              "      <th>9</th>\n",
              "      <td>NVER903056B7</td>\n",
              "      <td>0</td>\n",
              "    </tr>\n",
              "  </tbody>\n",
              "</table>\n",
              "</div>\n",
              "      <button class=\"colab-df-convert\" onclick=\"convertToInteractive('df-5134dbce-1554-4152-8bad-0a07a3cda129')\"\n",
              "              title=\"Convert this dataframe to an interactive table.\"\n",
              "              style=\"display:none;\">\n",
              "        \n",
              "  <svg xmlns=\"http://www.w3.org/2000/svg\" height=\"24px\"viewBox=\"0 0 24 24\"\n",
              "       width=\"24px\">\n",
              "    <path d=\"M0 0h24v24H0V0z\" fill=\"none\"/>\n",
              "    <path d=\"M18.56 5.44l.94 2.06.94-2.06 2.06-.94-2.06-.94-.94-2.06-.94 2.06-2.06.94zm-11 1L8.5 8.5l.94-2.06 2.06-.94-2.06-.94L8.5 2.5l-.94 2.06-2.06.94zm10 10l.94 2.06.94-2.06 2.06-.94-2.06-.94-.94-2.06-.94 2.06-2.06.94z\"/><path d=\"M17.41 7.96l-1.37-1.37c-.4-.4-.92-.59-1.43-.59-.52 0-1.04.2-1.43.59L10.3 9.45l-7.72 7.72c-.78.78-.78 2.05 0 2.83L4 21.41c.39.39.9.59 1.41.59.51 0 1.02-.2 1.41-.59l7.78-7.78 2.81-2.81c.8-.78.8-2.07 0-2.86zM5.41 20L4 18.59l7.72-7.72 1.47 1.35L5.41 20z\"/>\n",
              "  </svg>\n",
              "      </button>\n",
              "      \n",
              "  <style>\n",
              "    .colab-df-container {\n",
              "      display:flex;\n",
              "      flex-wrap:wrap;\n",
              "      gap: 12px;\n",
              "    }\n",
              "\n",
              "    .colab-df-convert {\n",
              "      background-color: #E8F0FE;\n",
              "      border: none;\n",
              "      border-radius: 50%;\n",
              "      cursor: pointer;\n",
              "      display: none;\n",
              "      fill: #1967D2;\n",
              "      height: 32px;\n",
              "      padding: 0 0 0 0;\n",
              "      width: 32px;\n",
              "    }\n",
              "\n",
              "    .colab-df-convert:hover {\n",
              "      background-color: #E2EBFA;\n",
              "      box-shadow: 0px 1px 2px rgba(60, 64, 67, 0.3), 0px 1px 3px 1px rgba(60, 64, 67, 0.15);\n",
              "      fill: #174EA6;\n",
              "    }\n",
              "\n",
              "    [theme=dark] .colab-df-convert {\n",
              "      background-color: #3B4455;\n",
              "      fill: #D2E3FC;\n",
              "    }\n",
              "\n",
              "    [theme=dark] .colab-df-convert:hover {\n",
              "      background-color: #434B5C;\n",
              "      box-shadow: 0px 1px 3px 1px rgba(0, 0, 0, 0.15);\n",
              "      filter: drop-shadow(0px 1px 2px rgba(0, 0, 0, 0.3));\n",
              "      fill: #FFFFFF;\n",
              "    }\n",
              "  </style>\n",
              "\n",
              "      <script>\n",
              "        const buttonEl =\n",
              "          document.querySelector('#df-5134dbce-1554-4152-8bad-0a07a3cda129 button.colab-df-convert');\n",
              "        buttonEl.style.display =\n",
              "          google.colab.kernel.accessAllowed ? 'block' : 'none';\n",
              "\n",
              "        async function convertToInteractive(key) {\n",
              "          const element = document.querySelector('#df-5134dbce-1554-4152-8bad-0a07a3cda129');\n",
              "          const dataTable =\n",
              "            await google.colab.kernel.invokeFunction('convertToInteractive',\n",
              "                                                     [key], {});\n",
              "          if (!dataTable) return;\n",
              "\n",
              "          const docLinkHtml = 'Like what you see? Visit the ' +\n",
              "            '<a target=\"_blank\" href=https://colab.research.google.com/notebooks/data_table.ipynb>data table notebook</a>'\n",
              "            + ' to learn more about interactive tables.';\n",
              "          element.innerHTML = '';\n",
              "          dataTable['output_type'] = 'display_data';\n",
              "          await google.colab.output.renderOutput(dataTable, element);\n",
              "          const docLink = document.createElement('div');\n",
              "          docLink.innerHTML = docLinkHtml;\n",
              "          element.appendChild(docLink);\n",
              "        }\n",
              "      </script>\n",
              "    </div>\n",
              "  </div>\n",
              "  "
            ]
          },
          "metadata": {},
          "execution_count": 20
        }
      ]
    },
    {
      "cell_type": "markdown",
      "source": [
        "#### Logistic Regression Train Accuracy"
      ],
      "metadata": {
        "id": "PwH8U9tCmihU"
      }
    },
    {
      "cell_type": "code",
      "source": [
        "y_pred_lr = classifier_LR.predict(X_train)\n",
        "print(accuracy_score(y, y_pred_lr))"
      ],
      "metadata": {
        "colab": {
          "base_uri": "https://localhost:8080/"
        },
        "id": "dycWqlyjmPrN",
        "outputId": "45dfe293-ddd9-45f8-efa7-0eef584c2f53"
      },
      "execution_count": 26,
      "outputs": [
        {
          "output_type": "stream",
          "name": "stdout",
          "text": [
            "0.7761006289308177\n"
          ]
        }
      ]
    },
    {
      "cell_type": "markdown",
      "source": [
        "#### Save output of Logistic Regression"
      ],
      "metadata": {
        "id": "FvZ58EVtkqf5"
      }
    },
    {
      "cell_type": "code",
      "source": [
        "dframe.to_csv('output_lr.csv')"
      ],
      "metadata": {
        "id": "QGWGSat5tRV8"
      },
      "execution_count": null,
      "outputs": []
    },
    {
      "cell_type": "markdown",
      "source": [
        "### Predict with SVM"
      ],
      "metadata": {
        "id": "Imoe8Jwokwtl"
      }
    },
    {
      "cell_type": "code",
      "source": [
        "from sklearn.svm import SVC\n",
        "classifier_SVM = SVC(kernel = 'linear', random_state = 42)\n",
        "classifier_SVM.fit(X_train, y)"
      ],
      "metadata": {
        "colab": {
          "base_uri": "https://localhost:8080/"
        },
        "id": "F0lsCevRai_m",
        "outputId": "ee430f47-33b2-41b3-d1af-40f39ac2a4cb"
      },
      "execution_count": 21,
      "outputs": [
        {
          "output_type": "execute_result",
          "data": {
            "text/plain": [
              "SVC(kernel='linear', random_state=42)"
            ]
          },
          "metadata": {},
          "execution_count": 21
        }
      ]
    },
    {
      "cell_type": "code",
      "source": [
        "y_pred_svm = classifier_SVM.predict(X_test)\n",
        "dframe = pd.DataFrame({'Customer Id': test['Customer Id'], 'prediction': y_pred_svm})\n",
        "dframe.head(10)"
      ],
      "metadata": {
        "colab": {
          "base_uri": "https://localhost:8080/",
          "height": 363
        },
        "id": "h2GVrNaUbsep",
        "outputId": "0f42684f-8199-4dcf-e17c-3927be8d9331"
      },
      "execution_count": 22,
      "outputs": [
        {
          "output_type": "execute_result",
          "data": {
            "text/plain": [
              "    Customer Id  prediction\n",
              "0  Q5OK4L2Q5XNH           0\n",
              "1  CBHVMVE7TRP5           1\n",
              "2  9UGHQ91U4F0M           1\n",
              "3  3UWXWMZK4ZGL           1\n",
              "4  5CGEMLMBOPES           0\n",
              "5  SPJ0K6KGDGN7           0\n",
              "6  9EFRT3UC3PDN           0\n",
              "7  7BH09UOH5SVF           0\n",
              "8  VYY6N0NLM8UE           0\n",
              "9  NVER903056B7           0"
            ],
            "text/html": [
              "\n",
              "  <div id=\"df-f576e385-076a-4196-ade5-c6c755f084f3\">\n",
              "    <div class=\"colab-df-container\">\n",
              "      <div>\n",
              "<style scoped>\n",
              "    .dataframe tbody tr th:only-of-type {\n",
              "        vertical-align: middle;\n",
              "    }\n",
              "\n",
              "    .dataframe tbody tr th {\n",
              "        vertical-align: top;\n",
              "    }\n",
              "\n",
              "    .dataframe thead th {\n",
              "        text-align: right;\n",
              "    }\n",
              "</style>\n",
              "<table border=\"1\" class=\"dataframe\">\n",
              "  <thead>\n",
              "    <tr style=\"text-align: right;\">\n",
              "      <th></th>\n",
              "      <th>Customer Id</th>\n",
              "      <th>prediction</th>\n",
              "    </tr>\n",
              "  </thead>\n",
              "  <tbody>\n",
              "    <tr>\n",
              "      <th>0</th>\n",
              "      <td>Q5OK4L2Q5XNH</td>\n",
              "      <td>0</td>\n",
              "    </tr>\n",
              "    <tr>\n",
              "      <th>1</th>\n",
              "      <td>CBHVMVE7TRP5</td>\n",
              "      <td>1</td>\n",
              "    </tr>\n",
              "    <tr>\n",
              "      <th>2</th>\n",
              "      <td>9UGHQ91U4F0M</td>\n",
              "      <td>1</td>\n",
              "    </tr>\n",
              "    <tr>\n",
              "      <th>3</th>\n",
              "      <td>3UWXWMZK4ZGL</td>\n",
              "      <td>1</td>\n",
              "    </tr>\n",
              "    <tr>\n",
              "      <th>4</th>\n",
              "      <td>5CGEMLMBOPES</td>\n",
              "      <td>0</td>\n",
              "    </tr>\n",
              "    <tr>\n",
              "      <th>5</th>\n",
              "      <td>SPJ0K6KGDGN7</td>\n",
              "      <td>0</td>\n",
              "    </tr>\n",
              "    <tr>\n",
              "      <th>6</th>\n",
              "      <td>9EFRT3UC3PDN</td>\n",
              "      <td>0</td>\n",
              "    </tr>\n",
              "    <tr>\n",
              "      <th>7</th>\n",
              "      <td>7BH09UOH5SVF</td>\n",
              "      <td>0</td>\n",
              "    </tr>\n",
              "    <tr>\n",
              "      <th>8</th>\n",
              "      <td>VYY6N0NLM8UE</td>\n",
              "      <td>0</td>\n",
              "    </tr>\n",
              "    <tr>\n",
              "      <th>9</th>\n",
              "      <td>NVER903056B7</td>\n",
              "      <td>0</td>\n",
              "    </tr>\n",
              "  </tbody>\n",
              "</table>\n",
              "</div>\n",
              "      <button class=\"colab-df-convert\" onclick=\"convertToInteractive('df-f576e385-076a-4196-ade5-c6c755f084f3')\"\n",
              "              title=\"Convert this dataframe to an interactive table.\"\n",
              "              style=\"display:none;\">\n",
              "        \n",
              "  <svg xmlns=\"http://www.w3.org/2000/svg\" height=\"24px\"viewBox=\"0 0 24 24\"\n",
              "       width=\"24px\">\n",
              "    <path d=\"M0 0h24v24H0V0z\" fill=\"none\"/>\n",
              "    <path d=\"M18.56 5.44l.94 2.06.94-2.06 2.06-.94-2.06-.94-.94-2.06-.94 2.06-2.06.94zm-11 1L8.5 8.5l.94-2.06 2.06-.94-2.06-.94L8.5 2.5l-.94 2.06-2.06.94zm10 10l.94 2.06.94-2.06 2.06-.94-2.06-.94-.94-2.06-.94 2.06-2.06.94z\"/><path d=\"M17.41 7.96l-1.37-1.37c-.4-.4-.92-.59-1.43-.59-.52 0-1.04.2-1.43.59L10.3 9.45l-7.72 7.72c-.78.78-.78 2.05 0 2.83L4 21.41c.39.39.9.59 1.41.59.51 0 1.02-.2 1.41-.59l7.78-7.78 2.81-2.81c.8-.78.8-2.07 0-2.86zM5.41 20L4 18.59l7.72-7.72 1.47 1.35L5.41 20z\"/>\n",
              "  </svg>\n",
              "      </button>\n",
              "      \n",
              "  <style>\n",
              "    .colab-df-container {\n",
              "      display:flex;\n",
              "      flex-wrap:wrap;\n",
              "      gap: 12px;\n",
              "    }\n",
              "\n",
              "    .colab-df-convert {\n",
              "      background-color: #E8F0FE;\n",
              "      border: none;\n",
              "      border-radius: 50%;\n",
              "      cursor: pointer;\n",
              "      display: none;\n",
              "      fill: #1967D2;\n",
              "      height: 32px;\n",
              "      padding: 0 0 0 0;\n",
              "      width: 32px;\n",
              "    }\n",
              "\n",
              "    .colab-df-convert:hover {\n",
              "      background-color: #E2EBFA;\n",
              "      box-shadow: 0px 1px 2px rgba(60, 64, 67, 0.3), 0px 1px 3px 1px rgba(60, 64, 67, 0.15);\n",
              "      fill: #174EA6;\n",
              "    }\n",
              "\n",
              "    [theme=dark] .colab-df-convert {\n",
              "      background-color: #3B4455;\n",
              "      fill: #D2E3FC;\n",
              "    }\n",
              "\n",
              "    [theme=dark] .colab-df-convert:hover {\n",
              "      background-color: #434B5C;\n",
              "      box-shadow: 0px 1px 3px 1px rgba(0, 0, 0, 0.15);\n",
              "      filter: drop-shadow(0px 1px 2px rgba(0, 0, 0, 0.3));\n",
              "      fill: #FFFFFF;\n",
              "    }\n",
              "  </style>\n",
              "\n",
              "      <script>\n",
              "        const buttonEl =\n",
              "          document.querySelector('#df-f576e385-076a-4196-ade5-c6c755f084f3 button.colab-df-convert');\n",
              "        buttonEl.style.display =\n",
              "          google.colab.kernel.accessAllowed ? 'block' : 'none';\n",
              "\n",
              "        async function convertToInteractive(key) {\n",
              "          const element = document.querySelector('#df-f576e385-076a-4196-ade5-c6c755f084f3');\n",
              "          const dataTable =\n",
              "            await google.colab.kernel.invokeFunction('convertToInteractive',\n",
              "                                                     [key], {});\n",
              "          if (!dataTable) return;\n",
              "\n",
              "          const docLinkHtml = 'Like what you see? Visit the ' +\n",
              "            '<a target=\"_blank\" href=https://colab.research.google.com/notebooks/data_table.ipynb>data table notebook</a>'\n",
              "            + ' to learn more about interactive tables.';\n",
              "          element.innerHTML = '';\n",
              "          dataTable['output_type'] = 'display_data';\n",
              "          await google.colab.output.renderOutput(dataTable, element);\n",
              "          const docLink = document.createElement('div');\n",
              "          docLink.innerHTML = docLinkHtml;\n",
              "          element.appendChild(docLink);\n",
              "        }\n",
              "      </script>\n",
              "    </div>\n",
              "  </div>\n",
              "  "
            ]
          },
          "metadata": {},
          "execution_count": 22
        }
      ]
    },
    {
      "cell_type": "markdown",
      "source": [
        "#### SVM Train Accuracy"
      ],
      "metadata": {
        "id": "2uFOTLG8mutQ"
      }
    },
    {
      "cell_type": "code",
      "source": [
        "y_pred_svm = classifier_SVM.predict(X_train)\n",
        "print(accuracy_score(y, y_pred_svm))"
      ],
      "metadata": {
        "colab": {
          "base_uri": "https://localhost:8080/"
        },
        "id": "Dl3FuiTcmpf-",
        "outputId": "9d2ff1cb-4e66-4a60-b198-3af29f5b5032"
      },
      "execution_count": 27,
      "outputs": [
        {
          "output_type": "stream",
          "name": "stdout",
          "text": [
            "0.7603773584905661\n"
          ]
        }
      ]
    },
    {
      "cell_type": "markdown",
      "source": [
        "#### Save output of SVM"
      ],
      "metadata": {
        "id": "Uxv_esonk-Ve"
      }
    },
    {
      "cell_type": "code",
      "source": [
        "dframe.to_csv('output_svm.csv')"
      ],
      "metadata": {
        "id": "Q7U0MpS1tcH7"
      },
      "execution_count": null,
      "outputs": []
    },
    {
      "cell_type": "markdown",
      "source": [
        "### Create our ANN"
      ],
      "metadata": {
        "id": "zLKrFMS3lCqi"
      }
    },
    {
      "cell_type": "code",
      "source": [
        "from tensorflow import keras\n",
        "from keras.models import Sequential\n",
        "from keras.layers import Dense\n",
        "\n",
        "model = Sequential(\n",
        "    [\n",
        "        Dense(8, input_dim=x.shape[-1], activation=\"relu\", name=\"input\"),\n",
        "        Dense(64, activation=\"relu\", name=\"layer1\"),\n",
        "        Dense(256, activation=\"relu\", name=\"layer2\"),\n",
        "        Dense(256, activation=\"relu\", name=\"layer3\"),\n",
        "        Dense(64, activation=\"relu\", name=\"layer4\"),\n",
        "        Dense(1, activation=\"sigmoid\", name=\"output\")\n",
        "    ],\n",
        "    name=\"sequential_model\"\n",
        ")\n",
        "model.summary()"
      ],
      "metadata": {
        "colab": {
          "base_uri": "https://localhost:8080/"
        },
        "id": "es64yMDWb0Pe",
        "outputId": "cf509e77-2bfc-4060-ba21-6a9338068c22"
      },
      "execution_count": 23,
      "outputs": [
        {
          "output_type": "stream",
          "name": "stdout",
          "text": [
            "Model: \"sequential_model\"\n",
            "_________________________________________________________________\n",
            " Layer (type)                Output Shape              Param #   \n",
            "=================================================================\n",
            " input (Dense)               (None, 8)                 72        \n",
            "                                                                 \n",
            " layer1 (Dense)              (None, 64)                576       \n",
            "                                                                 \n",
            " layer2 (Dense)              (None, 256)               16640     \n",
            "                                                                 \n",
            " layer3 (Dense)              (None, 256)               65792     \n",
            "                                                                 \n",
            " layer4 (Dense)              (None, 64)                16448     \n",
            "                                                                 \n",
            " output (Dense)              (None, 1)                 65        \n",
            "                                                                 \n",
            "=================================================================\n",
            "Total params: 99,593\n",
            "Trainable params: 99,593\n",
            "Non-trainable params: 0\n",
            "_________________________________________________________________\n"
          ]
        }
      ]
    },
    {
      "cell_type": "markdown",
      "source": [
        "#### Plot ANN Model"
      ],
      "metadata": {
        "id": "Qmd9aPdYlcAz"
      }
    },
    {
      "cell_type": "code",
      "source": [
        "from keras import utils\n",
        "utils.plot_model(model, show_shapes=True, show_layer_names=True)"
      ],
      "metadata": {
        "colab": {
          "base_uri": "https://localhost:8080/",
          "height": 754
        },
        "id": "4zOD6t70cAln",
        "outputId": "6aa970cf-5c79-4d30-ba57-d364a2b48cac"
      },
      "execution_count": 24,
      "outputs": [
        {
          "output_type": "execute_result",
          "data": {
            "image/png": "[encoded data removed]",
            "text/plain": [
              "<IPython.core.display.Image object>"
            ]
          },
          "metadata": {},
          "execution_count": 24
        }
      ]
    },
    {
      "cell_type": "markdown",
      "source": [
        "#### Compile Model"
      ],
      "metadata": {
        "id": "Y_kh-GZnlfvl"
      }
    },
    {
      "cell_type": "code",
      "source": [
        "model.compile(\n",
        "        loss=\"binary_crossentropy\", \n",
        "        optimizer=\"adam\",\n",
        "        metrics=[\"accuracy\"]\n",
        "    )\n",
        "history = model.fit(X_train, y, batch_size=32, epochs=100)"
      ],
      "metadata": {
        "colab": {
          "base_uri": "https://localhost:8080/"
        },
        "id": "oGAJIfR1cE0v",
        "outputId": "b5d59231-5acb-453e-85be-a3c3fc49fb30"
      },
      "execution_count": 25,
      "outputs": [
        {
          "output_type": "stream",
          "name": "stdout",
          "text": [
            "Epoch 1/100\n",
            "50/50 [==============================] - 2s 5ms/step - loss: 0.5697 - accuracy: 0.7258\n",
            "Epoch 2/100\n",
            "50/50 [==============================] - 0s 4ms/step - loss: 0.5149 - accuracy: 0.7660\n",
            "Epoch 3/100\n",
            "50/50 [==============================] - 0s 4ms/step - loss: 0.4948 - accuracy: 0.7849\n",
            "Epoch 4/100\n",
            "50/50 [==============================] - 0s 5ms/step - loss: 0.4762 - accuracy: 0.7956\n",
            "Epoch 5/100\n",
            "50/50 [==============================] - 0s 5ms/step - loss: 0.4819 - accuracy: 0.7874\n",
            "Epoch 6/100\n",
            "50/50 [==============================] - 0s 5ms/step - loss: 0.4687 - accuracy: 0.7962\n",
            "Epoch 7/100\n",
            "50/50 [==============================] - 0s 5ms/step - loss: 0.4653 - accuracy: 0.8000\n",
            "Epoch 8/100\n",
            "50/50 [==============================] - 0s 5ms/step - loss: 0.4547 - accuracy: 0.8038\n",
            "Epoch 9/100\n",
            "50/50 [==============================] - 0s 5ms/step - loss: 0.4520 - accuracy: 0.8088\n",
            "Epoch 10/100\n",
            "50/50 [==============================] - 0s 5ms/step - loss: 0.4454 - accuracy: 0.8107\n",
            "Epoch 11/100\n",
            "50/50 [==============================] - 0s 5ms/step - loss: 0.4460 - accuracy: 0.8126\n",
            "Epoch 12/100\n",
            "50/50 [==============================] - 0s 4ms/step - loss: 0.4351 - accuracy: 0.8170\n",
            "Epoch 13/100\n",
            "50/50 [==============================] - 0s 4ms/step - loss: 0.4359 - accuracy: 0.8138\n",
            "Epoch 14/100\n",
            "50/50 [==============================] - 0s 4ms/step - loss: 0.4287 - accuracy: 0.8164\n",
            "Epoch 15/100\n",
            "50/50 [==============================] - 0s 4ms/step - loss: 0.4344 - accuracy: 0.8176\n",
            "Epoch 16/100\n",
            "50/50 [==============================] - 0s 5ms/step - loss: 0.4274 - accuracy: 0.8258\n",
            "Epoch 17/100\n",
            "50/50 [==============================] - 0s 5ms/step - loss: 0.4241 - accuracy: 0.8283\n",
            "Epoch 18/100\n",
            "50/50 [==============================] - 0s 4ms/step - loss: 0.4192 - accuracy: 0.8258\n",
            "Epoch 19/100\n",
            "50/50 [==============================] - 0s 4ms/step - loss: 0.4157 - accuracy: 0.8214\n",
            "Epoch 20/100\n",
            "50/50 [==============================] - 0s 5ms/step - loss: 0.4180 - accuracy: 0.8245\n",
            "Epoch 21/100\n",
            "50/50 [==============================] - 0s 4ms/step - loss: 0.4121 - accuracy: 0.8352\n",
            "Epoch 22/100\n",
            "50/50 [==============================] - 0s 5ms/step - loss: 0.4052 - accuracy: 0.8277\n",
            "Epoch 23/100\n",
            "50/50 [==============================] - 0s 4ms/step - loss: 0.4067 - accuracy: 0.8289\n",
            "Epoch 24/100\n",
            "50/50 [==============================] - 0s 4ms/step - loss: 0.4024 - accuracy: 0.8346\n",
            "Epoch 25/100\n",
            "50/50 [==============================] - 0s 4ms/step - loss: 0.3991 - accuracy: 0.8390\n",
            "Epoch 26/100\n",
            "50/50 [==============================] - 0s 5ms/step - loss: 0.3914 - accuracy: 0.8365\n",
            "Epoch 27/100\n",
            "50/50 [==============================] - 0s 7ms/step - loss: 0.3923 - accuracy: 0.8384\n",
            "Epoch 28/100\n",
            "50/50 [==============================] - 0s 7ms/step - loss: 0.3876 - accuracy: 0.8409\n",
            "Epoch 29/100\n",
            "50/50 [==============================] - 0s 7ms/step - loss: 0.3867 - accuracy: 0.8447\n",
            "Epoch 30/100\n",
            "50/50 [==============================] - 0s 7ms/step - loss: 0.3883 - accuracy: 0.8371\n",
            "Epoch 31/100\n",
            "50/50 [==============================] - 0s 8ms/step - loss: 0.3799 - accuracy: 0.8472\n",
            "Epoch 32/100\n",
            "50/50 [==============================] - 0s 8ms/step - loss: 0.3760 - accuracy: 0.8472\n",
            "Epoch 33/100\n",
            "50/50 [==============================] - 0s 7ms/step - loss: 0.3737 - accuracy: 0.8472\n",
            "Epoch 34/100\n",
            "50/50 [==============================] - 0s 6ms/step - loss: 0.3737 - accuracy: 0.8459\n",
            "Epoch 35/100\n",
            "50/50 [==============================] - 0s 5ms/step - loss: 0.3693 - accuracy: 0.8459\n",
            "Epoch 36/100\n",
            "50/50 [==============================] - 0s 5ms/step - loss: 0.3616 - accuracy: 0.8535\n",
            "Epoch 37/100\n",
            "50/50 [==============================] - 0s 4ms/step - loss: 0.3683 - accuracy: 0.8491\n",
            "Epoch 38/100\n",
            "50/50 [==============================] - 0s 5ms/step - loss: 0.3575 - accuracy: 0.8591\n",
            "Epoch 39/100\n",
            "50/50 [==============================] - 0s 5ms/step - loss: 0.3636 - accuracy: 0.8497\n",
            "Epoch 40/100\n",
            "50/50 [==============================] - 0s 4ms/step - loss: 0.3653 - accuracy: 0.8503\n",
            "Epoch 41/100\n",
            "50/50 [==============================] - 0s 5ms/step - loss: 0.3530 - accuracy: 0.8547\n",
            "Epoch 42/100\n",
            "50/50 [==============================] - 0s 5ms/step - loss: 0.3474 - accuracy: 0.8597\n",
            "Epoch 43/100\n",
            "50/50 [==============================] - 0s 4ms/step - loss: 0.3465 - accuracy: 0.8579\n",
            "Epoch 44/100\n",
            "50/50 [==============================] - 0s 4ms/step - loss: 0.3500 - accuracy: 0.8553\n",
            "Epoch 45/100\n",
            "50/50 [==============================] - 0s 4ms/step - loss: 0.3400 - accuracy: 0.8585\n",
            "Epoch 46/100\n",
            "50/50 [==============================] - 0s 5ms/step - loss: 0.3477 - accuracy: 0.8516\n",
            "Epoch 47/100\n",
            "50/50 [==============================] - 0s 5ms/step - loss: 0.3400 - accuracy: 0.8572\n",
            "Epoch 48/100\n",
            "50/50 [==============================] - 0s 5ms/step - loss: 0.3323 - accuracy: 0.8585\n",
            "Epoch 49/100\n",
            "50/50 [==============================] - 0s 4ms/step - loss: 0.3424 - accuracy: 0.8591\n",
            "Epoch 50/100\n",
            "50/50 [==============================] - 0s 5ms/step - loss: 0.3380 - accuracy: 0.8604\n",
            "Epoch 51/100\n",
            "50/50 [==============================] - 0s 5ms/step - loss: 0.3331 - accuracy: 0.8610\n",
            "Epoch 52/100\n",
            "50/50 [==============================] - 0s 5ms/step - loss: 0.3305 - accuracy: 0.8667\n",
            "Epoch 53/100\n",
            "50/50 [==============================] - 0s 4ms/step - loss: 0.3291 - accuracy: 0.8623\n",
            "Epoch 54/100\n",
            "50/50 [==============================] - 0s 5ms/step - loss: 0.3335 - accuracy: 0.8604\n",
            "Epoch 55/100\n",
            "50/50 [==============================] - 0s 4ms/step - loss: 0.3305 - accuracy: 0.8560\n",
            "Epoch 56/100\n",
            "50/50 [==============================] - 0s 4ms/step - loss: 0.3199 - accuracy: 0.8654\n",
            "Epoch 57/100\n",
            "50/50 [==============================] - 0s 5ms/step - loss: 0.3168 - accuracy: 0.8679\n",
            "Epoch 58/100\n",
            "50/50 [==============================] - 0s 5ms/step - loss: 0.3241 - accuracy: 0.8597\n",
            "Epoch 59/100\n",
            "50/50 [==============================] - 0s 5ms/step - loss: 0.3133 - accuracy: 0.8642\n",
            "Epoch 60/100\n",
            "50/50 [==============================] - 0s 5ms/step - loss: 0.3269 - accuracy: 0.8629\n",
            "Epoch 61/100\n",
            "50/50 [==============================] - 0s 5ms/step - loss: 0.3060 - accuracy: 0.8692\n",
            "Epoch 62/100\n",
            "50/50 [==============================] - 0s 4ms/step - loss: 0.3078 - accuracy: 0.8698\n",
            "Epoch 63/100\n",
            "50/50 [==============================] - 0s 4ms/step - loss: 0.3211 - accuracy: 0.8616\n",
            "Epoch 64/100\n",
            "50/50 [==============================] - 0s 5ms/step - loss: 0.3022 - accuracy: 0.8717\n",
            "Epoch 65/100\n",
            "50/50 [==============================] - 0s 4ms/step - loss: 0.3039 - accuracy: 0.8673\n",
            "Epoch 66/100\n",
            "50/50 [==============================] - 0s 5ms/step - loss: 0.2974 - accuracy: 0.8730\n",
            "Epoch 67/100\n",
            "50/50 [==============================] - 0s 5ms/step - loss: 0.2920 - accuracy: 0.8704\n",
            "Epoch 68/100\n",
            "50/50 [==============================] - 0s 5ms/step - loss: 0.2868 - accuracy: 0.8736\n",
            "Epoch 69/100\n",
            "50/50 [==============================] - 0s 4ms/step - loss: 0.2952 - accuracy: 0.8730\n",
            "Epoch 70/100\n",
            "50/50 [==============================] - 0s 5ms/step - loss: 0.3078 - accuracy: 0.8629\n",
            "Epoch 71/100\n",
            "50/50 [==============================] - 0s 5ms/step - loss: 0.2938 - accuracy: 0.8748\n",
            "Epoch 72/100\n",
            "50/50 [==============================] - 0s 5ms/step - loss: 0.2850 - accuracy: 0.8717\n",
            "Epoch 73/100\n",
            "50/50 [==============================] - 0s 4ms/step - loss: 0.2951 - accuracy: 0.8723\n",
            "Epoch 74/100\n",
            "50/50 [==============================] - 0s 5ms/step - loss: 0.3183 - accuracy: 0.8667\n",
            "Epoch 75/100\n",
            "50/50 [==============================] - 0s 4ms/step - loss: 0.2855 - accuracy: 0.8767\n",
            "Epoch 76/100\n",
            "50/50 [==============================] - 0s 5ms/step - loss: 0.2860 - accuracy: 0.8742\n",
            "Epoch 77/100\n",
            "50/50 [==============================] - 0s 7ms/step - loss: 0.2783 - accuracy: 0.8736\n",
            "Epoch 78/100\n",
            "50/50 [==============================] - 0s 7ms/step - loss: 0.2762 - accuracy: 0.8799\n",
            "Epoch 79/100\n",
            "50/50 [==============================] - 0s 7ms/step - loss: 0.2792 - accuracy: 0.8774\n",
            "Epoch 80/100\n",
            "50/50 [==============================] - 0s 7ms/step - loss: 0.2757 - accuracy: 0.8736\n",
            "Epoch 81/100\n",
            "50/50 [==============================] - 0s 7ms/step - loss: 0.2680 - accuracy: 0.8786\n",
            "Epoch 82/100\n",
            "50/50 [==============================] - 0s 7ms/step - loss: 0.2652 - accuracy: 0.8811\n",
            "Epoch 83/100\n",
            "50/50 [==============================] - 1s 10ms/step - loss: 0.2666 - accuracy: 0.8818\n",
            "Epoch 84/100\n",
            "50/50 [==============================] - 0s 9ms/step - loss: 0.2689 - accuracy: 0.8780\n",
            "Epoch 85/100\n",
            "50/50 [==============================] - 0s 5ms/step - loss: 0.2627 - accuracy: 0.8843\n",
            "Epoch 86/100\n",
            "50/50 [==============================] - 0s 7ms/step - loss: 0.2720 - accuracy: 0.8774\n",
            "Epoch 87/100\n",
            "50/50 [==============================] - 0s 7ms/step - loss: 0.2869 - accuracy: 0.8755\n",
            "Epoch 88/100\n",
            "50/50 [==============================] - 0s 6ms/step - loss: 0.2615 - accuracy: 0.8836\n",
            "Epoch 89/100\n",
            "50/50 [==============================] - 0s 6ms/step - loss: 0.2591 - accuracy: 0.8830\n",
            "Epoch 90/100\n",
            "50/50 [==============================] - 0s 6ms/step - loss: 0.2629 - accuracy: 0.8855\n",
            "Epoch 91/100\n",
            "50/50 [==============================] - 0s 6ms/step - loss: 0.2583 - accuracy: 0.8811\n",
            "Epoch 92/100\n",
            "50/50 [==============================] - 0s 5ms/step - loss: 0.2605 - accuracy: 0.8830\n",
            "Epoch 93/100\n",
            "50/50 [==============================] - 0s 5ms/step - loss: 0.2823 - accuracy: 0.8836\n",
            "Epoch 94/100\n",
            "50/50 [==============================] - 0s 5ms/step - loss: 0.2593 - accuracy: 0.8818\n",
            "Epoch 95/100\n",
            "50/50 [==============================] - 0s 7ms/step - loss: 0.2517 - accuracy: 0.8824\n",
            "Epoch 96/100\n",
            "50/50 [==============================] - 0s 9ms/step - loss: 0.2427 - accuracy: 0.8899\n",
            "Epoch 97/100\n",
            "50/50 [==============================] - 0s 9ms/step - loss: 0.2595 - accuracy: 0.8799\n",
            "Epoch 98/100\n",
            "50/50 [==============================] - 0s 8ms/step - loss: 0.2521 - accuracy: 0.8868\n",
            "Epoch 99/100\n",
            "50/50 [==============================] - 0s 9ms/step - loss: 0.2527 - accuracy: 0.8792\n",
            "Epoch 100/100\n",
            "50/50 [==============================] - 1s 11ms/step - loss: 0.2496 - accuracy: 0.8862\n"
          ]
        }
      ]
    },
    {
      "cell_type": "markdown",
      "source": [
        "#### Predict with ANN"
      ],
      "metadata": {
        "id": "INMQNMl8mA8b"
      }
    },
    {
      "cell_type": "code",
      "source": [
        "y_pred_nn = model.predict(X_test)\n",
        "y_pred_nn.shape"
      ],
      "metadata": {
        "colab": {
          "base_uri": "https://localhost:8080/"
        },
        "id": "N8E9rgD8cWeG",
        "outputId": "4b1e61f1-0fa5-4aee-e9f6-d21bd08b40da"
      },
      "execution_count": 28,
      "outputs": [
        {
          "output_type": "stream",
          "name": "stdout",
          "text": [
            "13/13 [==============================] - 1s 6ms/step\n"
          ]
        },
        {
          "output_type": "execute_result",
          "data": {
            "text/plain": [
              "(397, 1)"
            ]
          },
          "metadata": {},
          "execution_count": 28
        }
      ]
    },
    {
      "cell_type": "code",
      "source": [
        "dframe = pd.DataFrame({'Customer Id': test['Customer Id'], 'prediction': y_pred_nn.reshape(-1)})\n",
        "dframe.head(10)"
      ],
      "metadata": {
        "colab": {
          "base_uri": "https://localhost:8080/",
          "height": 363
        },
        "id": "qpiD7iiKcmJp",
        "outputId": "140fb55e-969c-4c56-90fe-bc6f3c279d22"
      },
      "execution_count": 29,
      "outputs": [
        {
          "output_type": "execute_result",
          "data": {
            "text/plain": [
              "    Customer Id  prediction\n",
              "0  Q5OK4L2Q5XNH    0.765095\n",
              "1  CBHVMVE7TRP5    0.964101\n",
              "2  9UGHQ91U4F0M    0.942746\n",
              "3  3UWXWMZK4ZGL    0.999007\n",
              "4  5CGEMLMBOPES    0.219180\n",
              "5  SPJ0K6KGDGN7    0.002611\n",
              "6  9EFRT3UC3PDN    0.952860\n",
              "7  7BH09UOH5SVF    0.694925\n",
              "8  VYY6N0NLM8UE    0.000052\n",
              "9  NVER903056B7    0.000966"
            ],
            "text/html": [
              "\n",
              "  <div id=\"df-8fc0ed04-d80a-4351-8500-c4fb773a4aa8\">\n",
              "    <div class=\"colab-df-container\">\n",
              "      <div>\n",
              "<style scoped>\n",
              "    .dataframe tbody tr th:only-of-type {\n",
              "        vertical-align: middle;\n",
              "    }\n",
              "\n",
              "    .dataframe tbody tr th {\n",
              "        vertical-align: top;\n",
              "    }\n",
              "\n",
              "    .dataframe thead th {\n",
              "        text-align: right;\n",
              "    }\n",
              "</style>\n",
              "<table border=\"1\" class=\"dataframe\">\n",
              "  <thead>\n",
              "    <tr style=\"text-align: right;\">\n",
              "      <th></th>\n",
              "      <th>Customer Id</th>\n",
              "      <th>prediction</th>\n",
              "    </tr>\n",
              "  </thead>\n",
              "  <tbody>\n",
              "    <tr>\n",
              "      <th>0</th>\n",
              "      <td>Q5OK4L2Q5XNH</td>\n",
              "      <td>0.765095</td>\n",
              "    </tr>\n",
              "    <tr>\n",
              "      <th>1</th>\n",
              "      <td>CBHVMVE7TRP5</td>\n",
              "      <td>0.964101</td>\n",
              "    </tr>\n",
              "    <tr>\n",
              "      <th>2</th>\n",
              "      <td>9UGHQ91U4F0M</td>\n",
              "      <td>0.942746</td>\n",
              "    </tr>\n",
              "    <tr>\n",
              "      <th>3</th>\n",
              "      <td>3UWXWMZK4ZGL</td>\n",
              "      <td>0.999007</td>\n",
              "    </tr>\n",
              "    <tr>\n",
              "      <th>4</th>\n",
              "      <td>5CGEMLMBOPES</td>\n",
              "      <td>0.219180</td>\n",
              "    </tr>\n",
              "    <tr>\n",
              "      <th>5</th>\n",
              "      <td>SPJ0K6KGDGN7</td>\n",
              "      <td>0.002611</td>\n",
              "    </tr>\n",
              "    <tr>\n",
              "      <th>6</th>\n",
              "      <td>9EFRT3UC3PDN</td>\n",
              "      <td>0.952860</td>\n",
              "    </tr>\n",
              "    <tr>\n",
              "      <th>7</th>\n",
              "      <td>7BH09UOH5SVF</td>\n",
              "      <td>0.694925</td>\n",
              "    </tr>\n",
              "    <tr>\n",
              "      <th>8</th>\n",
              "      <td>VYY6N0NLM8UE</td>\n",
              "      <td>0.000052</td>\n",
              "    </tr>\n",
              "    <tr>\n",
              "      <th>9</th>\n",
              "      <td>NVER903056B7</td>\n",
              "      <td>0.000966</td>\n",
              "    </tr>\n",
              "  </tbody>\n",
              "</table>\n",
              "</div>\n",
              "      <button class=\"colab-df-convert\" onclick=\"convertToInteractive('df-8fc0ed04-d80a-4351-8500-c4fb773a4aa8')\"\n",
              "              title=\"Convert this dataframe to an interactive table.\"\n",
              "              style=\"display:none;\">\n",
              "        \n",
              "  <svg xmlns=\"http://www.w3.org/2000/svg\" height=\"24px\"viewBox=\"0 0 24 24\"\n",
              "       width=\"24px\">\n",
              "    <path d=\"M0 0h24v24H0V0z\" fill=\"none\"/>\n",
              "    <path d=\"M18.56 5.44l.94 2.06.94-2.06 2.06-.94-2.06-.94-.94-2.06-.94 2.06-2.06.94zm-11 1L8.5 8.5l.94-2.06 2.06-.94-2.06-.94L8.5 2.5l-.94 2.06-2.06.94zm10 10l.94 2.06.94-2.06 2.06-.94-2.06-.94-.94-2.06-.94 2.06-2.06.94z\"/><path d=\"M17.41 7.96l-1.37-1.37c-.4-.4-.92-.59-1.43-.59-.52 0-1.04.2-1.43.59L10.3 9.45l-7.72 7.72c-.78.78-.78 2.05 0 2.83L4 21.41c.39.39.9.59 1.41.59.51 0 1.02-.2 1.41-.59l7.78-7.78 2.81-2.81c.8-.78.8-2.07 0-2.86zM5.41 20L4 18.59l7.72-7.72 1.47 1.35L5.41 20z\"/>\n",
              "  </svg>\n",
              "      </button>\n",
              "      \n",
              "  <style>\n",
              "    .colab-df-container {\n",
              "      display:flex;\n",
              "      flex-wrap:wrap;\n",
              "      gap: 12px;\n",
              "    }\n",
              "\n",
              "    .colab-df-convert {\n",
              "      background-color: #E8F0FE;\n",
              "      border: none;\n",
              "      border-radius: 50%;\n",
              "      cursor: pointer;\n",
              "      display: none;\n",
              "      fill: #1967D2;\n",
              "      height: 32px;\n",
              "      padding: 0 0 0 0;\n",
              "      width: 32px;\n",
              "    }\n",
              "\n",
              "    .colab-df-convert:hover {\n",
              "      background-color: #E2EBFA;\n",
              "      box-shadow: 0px 1px 2px rgba(60, 64, 67, 0.3), 0px 1px 3px 1px rgba(60, 64, 67, 0.15);\n",
              "      fill: #174EA6;\n",
              "    }\n",
              "\n",
              "    [theme=dark] .colab-df-convert {\n",
              "      background-color: #3B4455;\n",
              "      fill: #D2E3FC;\n",
              "    }\n",
              "\n",
              "    [theme=dark] .colab-df-convert:hover {\n",
              "      background-color: #434B5C;\n",
              "      box-shadow: 0px 1px 3px 1px rgba(0, 0, 0, 0.15);\n",
              "      filter: drop-shadow(0px 1px 2px rgba(0, 0, 0, 0.3));\n",
              "      fill: #FFFFFF;\n",
              "    }\n",
              "  </style>\n",
              "\n",
              "      <script>\n",
              "        const buttonEl =\n",
              "          document.querySelector('#df-8fc0ed04-d80a-4351-8500-c4fb773a4aa8 button.colab-df-convert');\n",
              "        buttonEl.style.display =\n",
              "          google.colab.kernel.accessAllowed ? 'block' : 'none';\n",
              "\n",
              "        async function convertToInteractive(key) {\n",
              "          const element = document.querySelector('#df-8fc0ed04-d80a-4351-8500-c4fb773a4aa8');\n",
              "          const dataTable =\n",
              "            await google.colab.kernel.invokeFunction('convertToInteractive',\n",
              "                                                     [key], {});\n",
              "          if (!dataTable) return;\n",
              "\n",
              "          const docLinkHtml = 'Like what you see? Visit the ' +\n",
              "            '<a target=\"_blank\" href=https://colab.research.google.com/notebooks/data_table.ipynb>data table notebook</a>'\n",
              "            + ' to learn more about interactive tables.';\n",
              "          element.innerHTML = '';\n",
              "          dataTable['output_type'] = 'display_data';\n",
              "          await google.colab.output.renderOutput(dataTable, element);\n",
              "          const docLink = document.createElement('div');\n",
              "          docLink.innerHTML = docLinkHtml;\n",
              "          element.appendChild(docLink);\n",
              "        }\n",
              "      </script>\n",
              "    </div>\n",
              "  </div>\n",
              "  "
            ]
          },
          "metadata": {},
          "execution_count": 29
        }
      ]
    },
    {
      "cell_type": "markdown",
      "source": [
        "#### Save output of ANN"
      ],
      "metadata": {
        "id": "dwizFQXVmGaY"
      }
    },
    {
      "cell_type": "code",
      "source": [
        "dframe.to_csv('output_nn.csv')"
      ],
      "metadata": {
        "id": "Ay3sw_bac8J6"
      },
      "execution_count": null,
      "outputs": []
    }
  ]
}